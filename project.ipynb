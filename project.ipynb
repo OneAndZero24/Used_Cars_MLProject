{
 "cells": [
  {
   "cell_type": "markdown",
   "metadata": {},
   "source": [
    "06.2022\n",
    "\n",
    "**Jan Miksa**\n",
    "\n",
    "**US Used Cars Market Machine Learning Project**\n",
    "\n",
    "Based on: https://www.kaggle.com/datasets/austinreese/craigslist-carstrucks-data"
   ]
  },
  {
   "cell_type": "markdown",
   "metadata": {},
   "source": [
    "# **I. Basic Data Preparation**"
   ]
  },
  {
   "cell_type": "markdown",
   "metadata": {},
   "source": [
    "## A. Loading"
   ]
  },
  {
   "cell_type": "code",
   "execution_count": 1,
   "metadata": {},
   "outputs": [],
   "source": [
    "import numpy as np\n",
    "import pandas as pd "
   ]
  },
  {
   "cell_type": "code",
   "execution_count": 2,
   "metadata": {},
   "outputs": [
    {
     "name": "stdout",
     "output_type": "stream",
     "text": [
      "(426880, 26)\n"
     ]
    },
    {
     "data": {
      "text/html": [
       "<div>\n",
       "<style scoped>\n",
       "    .dataframe tbody tr th:only-of-type {\n",
       "        vertical-align: middle;\n",
       "    }\n",
       "\n",
       "    .dataframe tbody tr th {\n",
       "        vertical-align: top;\n",
       "    }\n",
       "\n",
       "    .dataframe thead th {\n",
       "        text-align: right;\n",
       "    }\n",
       "</style>\n",
       "<table border=\"1\" class=\"dataframe\">\n",
       "  <thead>\n",
       "    <tr style=\"text-align: right;\">\n",
       "      <th></th>\n",
       "      <th>id</th>\n",
       "      <th>url</th>\n",
       "      <th>region</th>\n",
       "      <th>region_url</th>\n",
       "      <th>price</th>\n",
       "      <th>year</th>\n",
       "      <th>manufacturer</th>\n",
       "      <th>model</th>\n",
       "      <th>condition</th>\n",
       "      <th>cylinders</th>\n",
       "      <th>...</th>\n",
       "      <th>size</th>\n",
       "      <th>type</th>\n",
       "      <th>paint_color</th>\n",
       "      <th>image_url</th>\n",
       "      <th>description</th>\n",
       "      <th>county</th>\n",
       "      <th>state</th>\n",
       "      <th>lat</th>\n",
       "      <th>long</th>\n",
       "      <th>posting_date</th>\n",
       "    </tr>\n",
       "  </thead>\n",
       "  <tbody>\n",
       "    <tr>\n",
       "      <th>0</th>\n",
       "      <td>7222695916</td>\n",
       "      <td>https://prescott.craigslist.org/cto/d/prescott...</td>\n",
       "      <td>prescott</td>\n",
       "      <td>https://prescott.craigslist.org</td>\n",
       "      <td>6000</td>\n",
       "      <td>NaN</td>\n",
       "      <td>NaN</td>\n",
       "      <td>NaN</td>\n",
       "      <td>NaN</td>\n",
       "      <td>NaN</td>\n",
       "      <td>...</td>\n",
       "      <td>NaN</td>\n",
       "      <td>NaN</td>\n",
       "      <td>NaN</td>\n",
       "      <td>NaN</td>\n",
       "      <td>NaN</td>\n",
       "      <td>NaN</td>\n",
       "      <td>az</td>\n",
       "      <td>NaN</td>\n",
       "      <td>NaN</td>\n",
       "      <td>NaN</td>\n",
       "    </tr>\n",
       "    <tr>\n",
       "      <th>1</th>\n",
       "      <td>7218891961</td>\n",
       "      <td>https://fayar.craigslist.org/ctd/d/bentonville...</td>\n",
       "      <td>fayetteville</td>\n",
       "      <td>https://fayar.craigslist.org</td>\n",
       "      <td>11900</td>\n",
       "      <td>NaN</td>\n",
       "      <td>NaN</td>\n",
       "      <td>NaN</td>\n",
       "      <td>NaN</td>\n",
       "      <td>NaN</td>\n",
       "      <td>...</td>\n",
       "      <td>NaN</td>\n",
       "      <td>NaN</td>\n",
       "      <td>NaN</td>\n",
       "      <td>NaN</td>\n",
       "      <td>NaN</td>\n",
       "      <td>NaN</td>\n",
       "      <td>ar</td>\n",
       "      <td>NaN</td>\n",
       "      <td>NaN</td>\n",
       "      <td>NaN</td>\n",
       "    </tr>\n",
       "    <tr>\n",
       "      <th>2</th>\n",
       "      <td>7221797935</td>\n",
       "      <td>https://keys.craigslist.org/cto/d/summerland-k...</td>\n",
       "      <td>florida keys</td>\n",
       "      <td>https://keys.craigslist.org</td>\n",
       "      <td>21000</td>\n",
       "      <td>NaN</td>\n",
       "      <td>NaN</td>\n",
       "      <td>NaN</td>\n",
       "      <td>NaN</td>\n",
       "      <td>NaN</td>\n",
       "      <td>...</td>\n",
       "      <td>NaN</td>\n",
       "      <td>NaN</td>\n",
       "      <td>NaN</td>\n",
       "      <td>NaN</td>\n",
       "      <td>NaN</td>\n",
       "      <td>NaN</td>\n",
       "      <td>fl</td>\n",
       "      <td>NaN</td>\n",
       "      <td>NaN</td>\n",
       "      <td>NaN</td>\n",
       "    </tr>\n",
       "    <tr>\n",
       "      <th>3</th>\n",
       "      <td>7222270760</td>\n",
       "      <td>https://worcester.craigslist.org/cto/d/west-br...</td>\n",
       "      <td>worcester / central MA</td>\n",
       "      <td>https://worcester.craigslist.org</td>\n",
       "      <td>1500</td>\n",
       "      <td>NaN</td>\n",
       "      <td>NaN</td>\n",
       "      <td>NaN</td>\n",
       "      <td>NaN</td>\n",
       "      <td>NaN</td>\n",
       "      <td>...</td>\n",
       "      <td>NaN</td>\n",
       "      <td>NaN</td>\n",
       "      <td>NaN</td>\n",
       "      <td>NaN</td>\n",
       "      <td>NaN</td>\n",
       "      <td>NaN</td>\n",
       "      <td>ma</td>\n",
       "      <td>NaN</td>\n",
       "      <td>NaN</td>\n",
       "      <td>NaN</td>\n",
       "    </tr>\n",
       "    <tr>\n",
       "      <th>4</th>\n",
       "      <td>7210384030</td>\n",
       "      <td>https://greensboro.craigslist.org/cto/d/trinit...</td>\n",
       "      <td>greensboro</td>\n",
       "      <td>https://greensboro.craigslist.org</td>\n",
       "      <td>4900</td>\n",
       "      <td>NaN</td>\n",
       "      <td>NaN</td>\n",
       "      <td>NaN</td>\n",
       "      <td>NaN</td>\n",
       "      <td>NaN</td>\n",
       "      <td>...</td>\n",
       "      <td>NaN</td>\n",
       "      <td>NaN</td>\n",
       "      <td>NaN</td>\n",
       "      <td>NaN</td>\n",
       "      <td>NaN</td>\n",
       "      <td>NaN</td>\n",
       "      <td>nc</td>\n",
       "      <td>NaN</td>\n",
       "      <td>NaN</td>\n",
       "      <td>NaN</td>\n",
       "    </tr>\n",
       "    <tr>\n",
       "      <th>5</th>\n",
       "      <td>7222379453</td>\n",
       "      <td>https://hudsonvalley.craigslist.org/cto/d/west...</td>\n",
       "      <td>hudson valley</td>\n",
       "      <td>https://hudsonvalley.craigslist.org</td>\n",
       "      <td>1600</td>\n",
       "      <td>NaN</td>\n",
       "      <td>NaN</td>\n",
       "      <td>NaN</td>\n",
       "      <td>NaN</td>\n",
       "      <td>NaN</td>\n",
       "      <td>...</td>\n",
       "      <td>NaN</td>\n",
       "      <td>NaN</td>\n",
       "      <td>NaN</td>\n",
       "      <td>NaN</td>\n",
       "      <td>NaN</td>\n",
       "      <td>NaN</td>\n",
       "      <td>ny</td>\n",
       "      <td>NaN</td>\n",
       "      <td>NaN</td>\n",
       "      <td>NaN</td>\n",
       "    </tr>\n",
       "    <tr>\n",
       "      <th>6</th>\n",
       "      <td>7221952215</td>\n",
       "      <td>https://hudsonvalley.craigslist.org/cto/d/west...</td>\n",
       "      <td>hudson valley</td>\n",
       "      <td>https://hudsonvalley.craigslist.org</td>\n",
       "      <td>1000</td>\n",
       "      <td>NaN</td>\n",
       "      <td>NaN</td>\n",
       "      <td>NaN</td>\n",
       "      <td>NaN</td>\n",
       "      <td>NaN</td>\n",
       "      <td>...</td>\n",
       "      <td>NaN</td>\n",
       "      <td>NaN</td>\n",
       "      <td>NaN</td>\n",
       "      <td>NaN</td>\n",
       "      <td>NaN</td>\n",
       "      <td>NaN</td>\n",
       "      <td>ny</td>\n",
       "      <td>NaN</td>\n",
       "      <td>NaN</td>\n",
       "      <td>NaN</td>\n",
       "    </tr>\n",
       "    <tr>\n",
       "      <th>7</th>\n",
       "      <td>7220195662</td>\n",
       "      <td>https://hudsonvalley.craigslist.org/cto/d/poug...</td>\n",
       "      <td>hudson valley</td>\n",
       "      <td>https://hudsonvalley.craigslist.org</td>\n",
       "      <td>15995</td>\n",
       "      <td>NaN</td>\n",
       "      <td>NaN</td>\n",
       "      <td>NaN</td>\n",
       "      <td>NaN</td>\n",
       "      <td>NaN</td>\n",
       "      <td>...</td>\n",
       "      <td>NaN</td>\n",
       "      <td>NaN</td>\n",
       "      <td>NaN</td>\n",
       "      <td>NaN</td>\n",
       "      <td>NaN</td>\n",
       "      <td>NaN</td>\n",
       "      <td>ny</td>\n",
       "      <td>NaN</td>\n",
       "      <td>NaN</td>\n",
       "      <td>NaN</td>\n",
       "    </tr>\n",
       "    <tr>\n",
       "      <th>8</th>\n",
       "      <td>7209064557</td>\n",
       "      <td>https://medford.craigslist.org/cto/d/grants-pa...</td>\n",
       "      <td>medford-ashland</td>\n",
       "      <td>https://medford.craigslist.org</td>\n",
       "      <td>5000</td>\n",
       "      <td>NaN</td>\n",
       "      <td>NaN</td>\n",
       "      <td>NaN</td>\n",
       "      <td>NaN</td>\n",
       "      <td>NaN</td>\n",
       "      <td>...</td>\n",
       "      <td>NaN</td>\n",
       "      <td>NaN</td>\n",
       "      <td>NaN</td>\n",
       "      <td>NaN</td>\n",
       "      <td>NaN</td>\n",
       "      <td>NaN</td>\n",
       "      <td>or</td>\n",
       "      <td>NaN</td>\n",
       "      <td>NaN</td>\n",
       "      <td>NaN</td>\n",
       "    </tr>\n",
       "    <tr>\n",
       "      <th>9</th>\n",
       "      <td>7219485069</td>\n",
       "      <td>https://erie.craigslist.org/cto/d/erie-2012-su...</td>\n",
       "      <td>erie</td>\n",
       "      <td>https://erie.craigslist.org</td>\n",
       "      <td>3000</td>\n",
       "      <td>NaN</td>\n",
       "      <td>NaN</td>\n",
       "      <td>NaN</td>\n",
       "      <td>NaN</td>\n",
       "      <td>NaN</td>\n",
       "      <td>...</td>\n",
       "      <td>NaN</td>\n",
       "      <td>NaN</td>\n",
       "      <td>NaN</td>\n",
       "      <td>NaN</td>\n",
       "      <td>NaN</td>\n",
       "      <td>NaN</td>\n",
       "      <td>pa</td>\n",
       "      <td>NaN</td>\n",
       "      <td>NaN</td>\n",
       "      <td>NaN</td>\n",
       "    </tr>\n",
       "  </tbody>\n",
       "</table>\n",
       "<p>10 rows × 26 columns</p>\n",
       "</div>"
      ],
      "text/plain": [
       "           id                                                url  \\\n",
       "0  7222695916  https://prescott.craigslist.org/cto/d/prescott...   \n",
       "1  7218891961  https://fayar.craigslist.org/ctd/d/bentonville...   \n",
       "2  7221797935  https://keys.craigslist.org/cto/d/summerland-k...   \n",
       "3  7222270760  https://worcester.craigslist.org/cto/d/west-br...   \n",
       "4  7210384030  https://greensboro.craigslist.org/cto/d/trinit...   \n",
       "5  7222379453  https://hudsonvalley.craigslist.org/cto/d/west...   \n",
       "6  7221952215  https://hudsonvalley.craigslist.org/cto/d/west...   \n",
       "7  7220195662  https://hudsonvalley.craigslist.org/cto/d/poug...   \n",
       "8  7209064557  https://medford.craigslist.org/cto/d/grants-pa...   \n",
       "9  7219485069  https://erie.craigslist.org/cto/d/erie-2012-su...   \n",
       "\n",
       "                   region                           region_url  price  year  \\\n",
       "0                prescott      https://prescott.craigslist.org   6000   NaN   \n",
       "1            fayetteville         https://fayar.craigslist.org  11900   NaN   \n",
       "2            florida keys          https://keys.craigslist.org  21000   NaN   \n",
       "3  worcester / central MA     https://worcester.craigslist.org   1500   NaN   \n",
       "4              greensboro    https://greensboro.craigslist.org   4900   NaN   \n",
       "5           hudson valley  https://hudsonvalley.craigslist.org   1600   NaN   \n",
       "6           hudson valley  https://hudsonvalley.craigslist.org   1000   NaN   \n",
       "7           hudson valley  https://hudsonvalley.craigslist.org  15995   NaN   \n",
       "8         medford-ashland       https://medford.craigslist.org   5000   NaN   \n",
       "9                    erie          https://erie.craigslist.org   3000   NaN   \n",
       "\n",
       "  manufacturer model condition cylinders  ... size  type paint_color  \\\n",
       "0          NaN   NaN       NaN       NaN  ...  NaN   NaN         NaN   \n",
       "1          NaN   NaN       NaN       NaN  ...  NaN   NaN         NaN   \n",
       "2          NaN   NaN       NaN       NaN  ...  NaN   NaN         NaN   \n",
       "3          NaN   NaN       NaN       NaN  ...  NaN   NaN         NaN   \n",
       "4          NaN   NaN       NaN       NaN  ...  NaN   NaN         NaN   \n",
       "5          NaN   NaN       NaN       NaN  ...  NaN   NaN         NaN   \n",
       "6          NaN   NaN       NaN       NaN  ...  NaN   NaN         NaN   \n",
       "7          NaN   NaN       NaN       NaN  ...  NaN   NaN         NaN   \n",
       "8          NaN   NaN       NaN       NaN  ...  NaN   NaN         NaN   \n",
       "9          NaN   NaN       NaN       NaN  ...  NaN   NaN         NaN   \n",
       "\n",
       "  image_url description county state lat long posting_date  \n",
       "0       NaN         NaN    NaN    az NaN  NaN          NaN  \n",
       "1       NaN         NaN    NaN    ar NaN  NaN          NaN  \n",
       "2       NaN         NaN    NaN    fl NaN  NaN          NaN  \n",
       "3       NaN         NaN    NaN    ma NaN  NaN          NaN  \n",
       "4       NaN         NaN    NaN    nc NaN  NaN          NaN  \n",
       "5       NaN         NaN    NaN    ny NaN  NaN          NaN  \n",
       "6       NaN         NaN    NaN    ny NaN  NaN          NaN  \n",
       "7       NaN         NaN    NaN    ny NaN  NaN          NaN  \n",
       "8       NaN         NaN    NaN    or NaN  NaN          NaN  \n",
       "9       NaN         NaN    NaN    pa NaN  NaN          NaN  \n",
       "\n",
       "[10 rows x 26 columns]"
      ]
     },
     "execution_count": 2,
     "metadata": {},
     "output_type": "execute_result"
    }
   ],
   "source": [
    "#importing data from CSV\n",
    "\n",
    "dataframe = pd.read_csv('vehicles.csv')\n",
    "\n",
    "print(dataframe.shape)\n",
    "dataframe.head(10)"
   ]
  },
  {
   "cell_type": "code",
   "execution_count": 3,
   "metadata": {},
   "outputs": [
    {
     "data": {
      "text/html": [
       "<div>\n",
       "<style scoped>\n",
       "    .dataframe tbody tr th:only-of-type {\n",
       "        vertical-align: middle;\n",
       "    }\n",
       "\n",
       "    .dataframe tbody tr th {\n",
       "        vertical-align: top;\n",
       "    }\n",
       "\n",
       "    .dataframe thead th {\n",
       "        text-align: right;\n",
       "    }\n",
       "</style>\n",
       "<table border=\"1\" class=\"dataframe\">\n",
       "  <thead>\n",
       "    <tr style=\"text-align: right;\">\n",
       "      <th></th>\n",
       "      <th>name</th>\n",
       "      <th>dtype</th>\n",
       "      <th>first value</th>\n",
       "      <th>null percent</th>\n",
       "      <th>desc</th>\n",
       "    </tr>\n",
       "  </thead>\n",
       "  <tbody>\n",
       "    <tr>\n",
       "      <th>0</th>\n",
       "      <td>id</td>\n",
       "      <td>int64</td>\n",
       "      <td>7222695916</td>\n",
       "      <td>0.0</td>\n",
       "      <td>entry ID</td>\n",
       "    </tr>\n",
       "    <tr>\n",
       "      <th>1</th>\n",
       "      <td>url</td>\n",
       "      <td>object</td>\n",
       "      <td>https://prescott.craigslist.org/cto/d/prescott...</td>\n",
       "      <td>0.0</td>\n",
       "      <td>listing URL</td>\n",
       "    </tr>\n",
       "    <tr>\n",
       "      <th>2</th>\n",
       "      <td>region</td>\n",
       "      <td>object</td>\n",
       "      <td>prescott</td>\n",
       "      <td>0.0</td>\n",
       "      <td>craigslist region</td>\n",
       "    </tr>\n",
       "    <tr>\n",
       "      <th>3</th>\n",
       "      <td>region_url</td>\n",
       "      <td>object</td>\n",
       "      <td>https://prescott.craigslist.org</td>\n",
       "      <td>0.0</td>\n",
       "      <td>region URL</td>\n",
       "    </tr>\n",
       "    <tr>\n",
       "      <th>4</th>\n",
       "      <td>price</td>\n",
       "      <td>int64</td>\n",
       "      <td>6000</td>\n",
       "      <td>0.0</td>\n",
       "      <td>entry price</td>\n",
       "    </tr>\n",
       "    <tr>\n",
       "      <th>5</th>\n",
       "      <td>year</td>\n",
       "      <td>float64</td>\n",
       "      <td>NaN</td>\n",
       "      <td>0.3</td>\n",
       "      <td>entry year</td>\n",
       "    </tr>\n",
       "    <tr>\n",
       "      <th>6</th>\n",
       "      <td>manufacturer</td>\n",
       "      <td>object</td>\n",
       "      <td>NaN</td>\n",
       "      <td>4.1</td>\n",
       "      <td>manufacturer of vehicle</td>\n",
       "    </tr>\n",
       "    <tr>\n",
       "      <th>7</th>\n",
       "      <td>model</td>\n",
       "      <td>object</td>\n",
       "      <td>NaN</td>\n",
       "      <td>1.2</td>\n",
       "      <td>model of vehicle</td>\n",
       "    </tr>\n",
       "    <tr>\n",
       "      <th>8</th>\n",
       "      <td>condition</td>\n",
       "      <td>object</td>\n",
       "      <td>NaN</td>\n",
       "      <td>40.8</td>\n",
       "      <td>condition of vehicle</td>\n",
       "    </tr>\n",
       "    <tr>\n",
       "      <th>9</th>\n",
       "      <td>cylinders</td>\n",
       "      <td>object</td>\n",
       "      <td>NaN</td>\n",
       "      <td>41.6</td>\n",
       "      <td>number of cylinders</td>\n",
       "    </tr>\n",
       "    <tr>\n",
       "      <th>10</th>\n",
       "      <td>fuel</td>\n",
       "      <td>object</td>\n",
       "      <td>NaN</td>\n",
       "      <td>0.7</td>\n",
       "      <td>fuel type</td>\n",
       "    </tr>\n",
       "    <tr>\n",
       "      <th>11</th>\n",
       "      <td>odometer</td>\n",
       "      <td>float64</td>\n",
       "      <td>NaN</td>\n",
       "      <td>1.0</td>\n",
       "      <td>miles traveled by vehicle</td>\n",
       "    </tr>\n",
       "    <tr>\n",
       "      <th>12</th>\n",
       "      <td>title_status</td>\n",
       "      <td>object</td>\n",
       "      <td>NaN</td>\n",
       "      <td>1.9</td>\n",
       "      <td>title status of vehicle</td>\n",
       "    </tr>\n",
       "    <tr>\n",
       "      <th>13</th>\n",
       "      <td>transmission</td>\n",
       "      <td>object</td>\n",
       "      <td>NaN</td>\n",
       "      <td>0.6</td>\n",
       "      <td>transmission of vehicle</td>\n",
       "    </tr>\n",
       "    <tr>\n",
       "      <th>14</th>\n",
       "      <td>VIN</td>\n",
       "      <td>object</td>\n",
       "      <td>NaN</td>\n",
       "      <td>37.7</td>\n",
       "      <td>vehicle identification number</td>\n",
       "    </tr>\n",
       "    <tr>\n",
       "      <th>15</th>\n",
       "      <td>drive</td>\n",
       "      <td>object</td>\n",
       "      <td>NaN</td>\n",
       "      <td>30.6</td>\n",
       "      <td>type of drive</td>\n",
       "    </tr>\n",
       "    <tr>\n",
       "      <th>16</th>\n",
       "      <td>size</td>\n",
       "      <td>object</td>\n",
       "      <td>NaN</td>\n",
       "      <td>71.8</td>\n",
       "      <td>size of vehicle</td>\n",
       "    </tr>\n",
       "    <tr>\n",
       "      <th>17</th>\n",
       "      <td>type</td>\n",
       "      <td>object</td>\n",
       "      <td>NaN</td>\n",
       "      <td>21.8</td>\n",
       "      <td>generic type of vehicle</td>\n",
       "    </tr>\n",
       "    <tr>\n",
       "      <th>18</th>\n",
       "      <td>paint_color</td>\n",
       "      <td>object</td>\n",
       "      <td>NaN</td>\n",
       "      <td>30.5</td>\n",
       "      <td>color of vehicle</td>\n",
       "    </tr>\n",
       "    <tr>\n",
       "      <th>19</th>\n",
       "      <td>image_url</td>\n",
       "      <td>object</td>\n",
       "      <td>NaN</td>\n",
       "      <td>0.0</td>\n",
       "      <td>image URL</td>\n",
       "    </tr>\n",
       "    <tr>\n",
       "      <th>20</th>\n",
       "      <td>description</td>\n",
       "      <td>object</td>\n",
       "      <td>NaN</td>\n",
       "      <td>0.0</td>\n",
       "      <td>listed description of vehicle</td>\n",
       "    </tr>\n",
       "    <tr>\n",
       "      <th>21</th>\n",
       "      <td>county</td>\n",
       "      <td>float64</td>\n",
       "      <td>NaN</td>\n",
       "      <td>100.0</td>\n",
       "      <td>useless column left in by mistake</td>\n",
       "    </tr>\n",
       "    <tr>\n",
       "      <th>22</th>\n",
       "      <td>state</td>\n",
       "      <td>object</td>\n",
       "      <td>az</td>\n",
       "      <td>0.0</td>\n",
       "      <td>state of listing</td>\n",
       "    </tr>\n",
       "    <tr>\n",
       "      <th>23</th>\n",
       "      <td>lat</td>\n",
       "      <td>float64</td>\n",
       "      <td>NaN</td>\n",
       "      <td>1.5</td>\n",
       "      <td>latitude of listing</td>\n",
       "    </tr>\n",
       "    <tr>\n",
       "      <th>24</th>\n",
       "      <td>long</td>\n",
       "      <td>float64</td>\n",
       "      <td>NaN</td>\n",
       "      <td>1.5</td>\n",
       "      <td>longitude of listing</td>\n",
       "    </tr>\n",
       "    <tr>\n",
       "      <th>25</th>\n",
       "      <td>posting_date</td>\n",
       "      <td>object</td>\n",
       "      <td>NaN</td>\n",
       "      <td>0.0</td>\n",
       "      <td>posting date</td>\n",
       "    </tr>\n",
       "  </tbody>\n",
       "</table>\n",
       "</div>"
      ],
      "text/plain": [
       "            name    dtype                                        first value  \\\n",
       "0             id    int64                                         7222695916   \n",
       "1            url   object  https://prescott.craigslist.org/cto/d/prescott...   \n",
       "2         region   object                                           prescott   \n",
       "3     region_url   object                    https://prescott.craigslist.org   \n",
       "4          price    int64                                               6000   \n",
       "5           year  float64                                                NaN   \n",
       "6   manufacturer   object                                                NaN   \n",
       "7          model   object                                                NaN   \n",
       "8      condition   object                                                NaN   \n",
       "9      cylinders   object                                                NaN   \n",
       "10          fuel   object                                                NaN   \n",
       "11      odometer  float64                                                NaN   \n",
       "12  title_status   object                                                NaN   \n",
       "13  transmission   object                                                NaN   \n",
       "14           VIN   object                                                NaN   \n",
       "15         drive   object                                                NaN   \n",
       "16          size   object                                                NaN   \n",
       "17          type   object                                                NaN   \n",
       "18   paint_color   object                                                NaN   \n",
       "19     image_url   object                                                NaN   \n",
       "20   description   object                                                NaN   \n",
       "21        county  float64                                                NaN   \n",
       "22         state   object                                                 az   \n",
       "23           lat  float64                                                NaN   \n",
       "24          long  float64                                                NaN   \n",
       "25  posting_date   object                                                NaN   \n",
       "\n",
       "    null percent                               desc  \n",
       "0            0.0                           entry ID  \n",
       "1            0.0                        listing URL  \n",
       "2            0.0                  craigslist region  \n",
       "3            0.0                         region URL  \n",
       "4            0.0                        entry price  \n",
       "5            0.3                         entry year  \n",
       "6            4.1            manufacturer of vehicle  \n",
       "7            1.2                   model of vehicle  \n",
       "8           40.8               condition of vehicle  \n",
       "9           41.6                number of cylinders  \n",
       "10           0.7                          fuel type  \n",
       "11           1.0          miles traveled by vehicle  \n",
       "12           1.9            title status of vehicle  \n",
       "13           0.6            transmission of vehicle  \n",
       "14          37.7      vehicle identification number  \n",
       "15          30.6                      type of drive  \n",
       "16          71.8                    size of vehicle  \n",
       "17          21.8            generic type of vehicle  \n",
       "18          30.5                   color of vehicle  \n",
       "19           0.0                          image URL  \n",
       "20           0.0      listed description of vehicle  \n",
       "21         100.0  useless column left in by mistake  \n",
       "22           0.0                   state of listing  \n",
       "23           1.5                latitude of listing  \n",
       "24           1.5               longitude of listing  \n",
       "25           0.0                       posting date  "
      ]
     },
     "execution_count": 3,
     "metadata": {},
     "output_type": "execute_result"
    }
   ],
   "source": [
    "#constructing dataframe with column descriptions based on what is found on kaggle\n",
    "#name - dtype - first value - null percent - desc\n",
    "\n",
    "desc = ['entry ID', 'listing URL', 'craigslist region', 'region URL', 'entry price', 'entry year', 'manufacturer of vehicle', 'model of vehicle', 'condition of vehicle', 'number of cylinders', 'fuel type', 'miles traveled by vehicle', 'title status of vehicle', 'transmission of vehicle', 'vehicle identification number', 'type of drive', 'size of vehicle', 'generic type of vehicle', 'color of vehicle', 'image URL', 'listed description of vehicle', 'useless column left in by mistake', 'state of listing', 'latitude of listing', 'longitude of listing', 'posting date']\n",
    "\n",
    "dataframe_desc = pd.DataFrame(dataframe.dtypes, columns=['dtype'])\n",
    "dataframe_desc = dataframe_desc.reset_index()\n",
    "\n",
    "dataframe_desc['name'] = dataframe_desc['index']\n",
    "dataframe_desc['first value'] = [ dataframe[name][0] for name in dataframe_desc['name']]\n",
    "dataframe_desc['null percent'] = [ round(dataframe[name].isna().mean()*100, 1) for name in dataframe_desc['name']]\n",
    "dataframe_desc['desc'] = desc\n",
    "\n",
    "dataframe_desc = dataframe_desc[['name','dtype','first value','null percent','desc']]\n",
    "dataframe_desc"
   ]
  },
  {
   "cell_type": "markdown",
   "metadata": {},
   "source": [
    "## B. Preprocessing"
   ]
  },
  {
   "cell_type": "code",
   "execution_count": 4,
   "metadata": {},
   "outputs": [],
   "source": [
    "#dropping columns that are not adequate for this project:\n",
    "# - id - id on craigslist, nothing to do with car\n",
    "# - url\n",
    "# - region - already have state\n",
    "# - region_url\n",
    "# - size - too much null values\n",
    "# - county\n",
    "# - lat - nothing to do with car\n",
    "# - long - nothing to do with car\n",
    "\n",
    "#left posting_date to adjust price for inflation to 2022(data is from 2021)\n",
    "#left image_url & description because they may be interesting later\n",
    "\n",
    "dataframe = dataframe.drop(['id', 'url', 'region', 'region_url', 'size', 'county', 'lat', 'long'], axis=1)"
   ]
  },
  {
   "cell_type": "code",
   "execution_count": 5,
   "metadata": {},
   "outputs": [
    {
     "name": "stdout",
     "output_type": "stream",
     "text": [
      "(426880, 18)\n"
     ]
    },
    {
     "data": {
      "text/html": [
       "<div>\n",
       "<style scoped>\n",
       "    .dataframe tbody tr th:only-of-type {\n",
       "        vertical-align: middle;\n",
       "    }\n",
       "\n",
       "    .dataframe tbody tr th {\n",
       "        vertical-align: top;\n",
       "    }\n",
       "\n",
       "    .dataframe thead th {\n",
       "        text-align: right;\n",
       "    }\n",
       "</style>\n",
       "<table border=\"1\" class=\"dataframe\">\n",
       "  <thead>\n",
       "    <tr style=\"text-align: right;\">\n",
       "      <th></th>\n",
       "      <th>price</th>\n",
       "      <th>year</th>\n",
       "      <th>manufacturer</th>\n",
       "      <th>model</th>\n",
       "      <th>condition</th>\n",
       "      <th>cylinders</th>\n",
       "      <th>fuel</th>\n",
       "      <th>odometer</th>\n",
       "      <th>title_status</th>\n",
       "      <th>transmission</th>\n",
       "      <th>VIN</th>\n",
       "      <th>drive</th>\n",
       "      <th>type</th>\n",
       "      <th>paint_color</th>\n",
       "      <th>image_url</th>\n",
       "      <th>description</th>\n",
       "      <th>state</th>\n",
       "      <th>posting_date</th>\n",
       "    </tr>\n",
       "  </thead>\n",
       "  <tbody>\n",
       "    <tr>\n",
       "      <th>0</th>\n",
       "      <td>6000</td>\n",
       "      <td>NaN</td>\n",
       "      <td>NaN</td>\n",
       "      <td>NaN</td>\n",
       "      <td>NaN</td>\n",
       "      <td>NaN</td>\n",
       "      <td>NaN</td>\n",
       "      <td>NaN</td>\n",
       "      <td>NaN</td>\n",
       "      <td>NaN</td>\n",
       "      <td>NaN</td>\n",
       "      <td>NaN</td>\n",
       "      <td>NaN</td>\n",
       "      <td>NaN</td>\n",
       "      <td>NaN</td>\n",
       "      <td>NaN</td>\n",
       "      <td>az</td>\n",
       "      <td>NaN</td>\n",
       "    </tr>\n",
       "    <tr>\n",
       "      <th>1</th>\n",
       "      <td>11900</td>\n",
       "      <td>NaN</td>\n",
       "      <td>NaN</td>\n",
       "      <td>NaN</td>\n",
       "      <td>NaN</td>\n",
       "      <td>NaN</td>\n",
       "      <td>NaN</td>\n",
       "      <td>NaN</td>\n",
       "      <td>NaN</td>\n",
       "      <td>NaN</td>\n",
       "      <td>NaN</td>\n",
       "      <td>NaN</td>\n",
       "      <td>NaN</td>\n",
       "      <td>NaN</td>\n",
       "      <td>NaN</td>\n",
       "      <td>NaN</td>\n",
       "      <td>ar</td>\n",
       "      <td>NaN</td>\n",
       "    </tr>\n",
       "    <tr>\n",
       "      <th>2</th>\n",
       "      <td>21000</td>\n",
       "      <td>NaN</td>\n",
       "      <td>NaN</td>\n",
       "      <td>NaN</td>\n",
       "      <td>NaN</td>\n",
       "      <td>NaN</td>\n",
       "      <td>NaN</td>\n",
       "      <td>NaN</td>\n",
       "      <td>NaN</td>\n",
       "      <td>NaN</td>\n",
       "      <td>NaN</td>\n",
       "      <td>NaN</td>\n",
       "      <td>NaN</td>\n",
       "      <td>NaN</td>\n",
       "      <td>NaN</td>\n",
       "      <td>NaN</td>\n",
       "      <td>fl</td>\n",
       "      <td>NaN</td>\n",
       "    </tr>\n",
       "    <tr>\n",
       "      <th>3</th>\n",
       "      <td>1500</td>\n",
       "      <td>NaN</td>\n",
       "      <td>NaN</td>\n",
       "      <td>NaN</td>\n",
       "      <td>NaN</td>\n",
       "      <td>NaN</td>\n",
       "      <td>NaN</td>\n",
       "      <td>NaN</td>\n",
       "      <td>NaN</td>\n",
       "      <td>NaN</td>\n",
       "      <td>NaN</td>\n",
       "      <td>NaN</td>\n",
       "      <td>NaN</td>\n",
       "      <td>NaN</td>\n",
       "      <td>NaN</td>\n",
       "      <td>NaN</td>\n",
       "      <td>ma</td>\n",
       "      <td>NaN</td>\n",
       "    </tr>\n",
       "    <tr>\n",
       "      <th>4</th>\n",
       "      <td>4900</td>\n",
       "      <td>NaN</td>\n",
       "      <td>NaN</td>\n",
       "      <td>NaN</td>\n",
       "      <td>NaN</td>\n",
       "      <td>NaN</td>\n",
       "      <td>NaN</td>\n",
       "      <td>NaN</td>\n",
       "      <td>NaN</td>\n",
       "      <td>NaN</td>\n",
       "      <td>NaN</td>\n",
       "      <td>NaN</td>\n",
       "      <td>NaN</td>\n",
       "      <td>NaN</td>\n",
       "      <td>NaN</td>\n",
       "      <td>NaN</td>\n",
       "      <td>nc</td>\n",
       "      <td>NaN</td>\n",
       "    </tr>\n",
       "    <tr>\n",
       "      <th>5</th>\n",
       "      <td>1600</td>\n",
       "      <td>NaN</td>\n",
       "      <td>NaN</td>\n",
       "      <td>NaN</td>\n",
       "      <td>NaN</td>\n",
       "      <td>NaN</td>\n",
       "      <td>NaN</td>\n",
       "      <td>NaN</td>\n",
       "      <td>NaN</td>\n",
       "      <td>NaN</td>\n",
       "      <td>NaN</td>\n",
       "      <td>NaN</td>\n",
       "      <td>NaN</td>\n",
       "      <td>NaN</td>\n",
       "      <td>NaN</td>\n",
       "      <td>NaN</td>\n",
       "      <td>ny</td>\n",
       "      <td>NaN</td>\n",
       "    </tr>\n",
       "    <tr>\n",
       "      <th>6</th>\n",
       "      <td>1000</td>\n",
       "      <td>NaN</td>\n",
       "      <td>NaN</td>\n",
       "      <td>NaN</td>\n",
       "      <td>NaN</td>\n",
       "      <td>NaN</td>\n",
       "      <td>NaN</td>\n",
       "      <td>NaN</td>\n",
       "      <td>NaN</td>\n",
       "      <td>NaN</td>\n",
       "      <td>NaN</td>\n",
       "      <td>NaN</td>\n",
       "      <td>NaN</td>\n",
       "      <td>NaN</td>\n",
       "      <td>NaN</td>\n",
       "      <td>NaN</td>\n",
       "      <td>ny</td>\n",
       "      <td>NaN</td>\n",
       "    </tr>\n",
       "    <tr>\n",
       "      <th>7</th>\n",
       "      <td>15995</td>\n",
       "      <td>NaN</td>\n",
       "      <td>NaN</td>\n",
       "      <td>NaN</td>\n",
       "      <td>NaN</td>\n",
       "      <td>NaN</td>\n",
       "      <td>NaN</td>\n",
       "      <td>NaN</td>\n",
       "      <td>NaN</td>\n",
       "      <td>NaN</td>\n",
       "      <td>NaN</td>\n",
       "      <td>NaN</td>\n",
       "      <td>NaN</td>\n",
       "      <td>NaN</td>\n",
       "      <td>NaN</td>\n",
       "      <td>NaN</td>\n",
       "      <td>ny</td>\n",
       "      <td>NaN</td>\n",
       "    </tr>\n",
       "    <tr>\n",
       "      <th>8</th>\n",
       "      <td>5000</td>\n",
       "      <td>NaN</td>\n",
       "      <td>NaN</td>\n",
       "      <td>NaN</td>\n",
       "      <td>NaN</td>\n",
       "      <td>NaN</td>\n",
       "      <td>NaN</td>\n",
       "      <td>NaN</td>\n",
       "      <td>NaN</td>\n",
       "      <td>NaN</td>\n",
       "      <td>NaN</td>\n",
       "      <td>NaN</td>\n",
       "      <td>NaN</td>\n",
       "      <td>NaN</td>\n",
       "      <td>NaN</td>\n",
       "      <td>NaN</td>\n",
       "      <td>or</td>\n",
       "      <td>NaN</td>\n",
       "    </tr>\n",
       "    <tr>\n",
       "      <th>9</th>\n",
       "      <td>3000</td>\n",
       "      <td>NaN</td>\n",
       "      <td>NaN</td>\n",
       "      <td>NaN</td>\n",
       "      <td>NaN</td>\n",
       "      <td>NaN</td>\n",
       "      <td>NaN</td>\n",
       "      <td>NaN</td>\n",
       "      <td>NaN</td>\n",
       "      <td>NaN</td>\n",
       "      <td>NaN</td>\n",
       "      <td>NaN</td>\n",
       "      <td>NaN</td>\n",
       "      <td>NaN</td>\n",
       "      <td>NaN</td>\n",
       "      <td>NaN</td>\n",
       "      <td>pa</td>\n",
       "      <td>NaN</td>\n",
       "    </tr>\n",
       "  </tbody>\n",
       "</table>\n",
       "</div>"
      ],
      "text/plain": [
       "   price  year manufacturer model condition cylinders fuel  odometer  \\\n",
       "0   6000   NaN          NaN   NaN       NaN       NaN  NaN       NaN   \n",
       "1  11900   NaN          NaN   NaN       NaN       NaN  NaN       NaN   \n",
       "2  21000   NaN          NaN   NaN       NaN       NaN  NaN       NaN   \n",
       "3   1500   NaN          NaN   NaN       NaN       NaN  NaN       NaN   \n",
       "4   4900   NaN          NaN   NaN       NaN       NaN  NaN       NaN   \n",
       "5   1600   NaN          NaN   NaN       NaN       NaN  NaN       NaN   \n",
       "6   1000   NaN          NaN   NaN       NaN       NaN  NaN       NaN   \n",
       "7  15995   NaN          NaN   NaN       NaN       NaN  NaN       NaN   \n",
       "8   5000   NaN          NaN   NaN       NaN       NaN  NaN       NaN   \n",
       "9   3000   NaN          NaN   NaN       NaN       NaN  NaN       NaN   \n",
       "\n",
       "  title_status transmission  VIN drive type paint_color image_url description  \\\n",
       "0          NaN          NaN  NaN   NaN  NaN         NaN       NaN         NaN   \n",
       "1          NaN          NaN  NaN   NaN  NaN         NaN       NaN         NaN   \n",
       "2          NaN          NaN  NaN   NaN  NaN         NaN       NaN         NaN   \n",
       "3          NaN          NaN  NaN   NaN  NaN         NaN       NaN         NaN   \n",
       "4          NaN          NaN  NaN   NaN  NaN         NaN       NaN         NaN   \n",
       "5          NaN          NaN  NaN   NaN  NaN         NaN       NaN         NaN   \n",
       "6          NaN          NaN  NaN   NaN  NaN         NaN       NaN         NaN   \n",
       "7          NaN          NaN  NaN   NaN  NaN         NaN       NaN         NaN   \n",
       "8          NaN          NaN  NaN   NaN  NaN         NaN       NaN         NaN   \n",
       "9          NaN          NaN  NaN   NaN  NaN         NaN       NaN         NaN   \n",
       "\n",
       "  state posting_date  \n",
       "0    az          NaN  \n",
       "1    ar          NaN  \n",
       "2    fl          NaN  \n",
       "3    ma          NaN  \n",
       "4    nc          NaN  \n",
       "5    ny          NaN  \n",
       "6    ny          NaN  \n",
       "7    ny          NaN  \n",
       "8    or          NaN  \n",
       "9    pa          NaN  "
      ]
     },
     "execution_count": 5,
     "metadata": {},
     "output_type": "execute_result"
    }
   ],
   "source": [
    "print(dataframe.shape)\n",
    "dataframe.head(10)"
   ]
  },
  {
   "cell_type": "markdown",
   "metadata": {},
   "source": [
    "### VIN"
   ]
  },
  {
   "cell_type": "markdown",
   "metadata": {},
   "source": [
    "What about VIN column?\n",
    "\n",
    "Based on: https://en.wikipedia.org/wiki/Vehicle_identification_number\n",
    "\n",
    "Apart from \"World Manufacturer Identifier\" and \"Model Year Encoding\" most parts of a VIN number are highly dependent on manufacturer/model of a vehicle and are not easy to extract without a big database of encodings used by different manufactutrers in different models. Also there are a lot of different WMIs dependent not only on manufacturing company, but also where the factory is.\n",
    "\n",
    "The only value that we can extract with relative ease is model year and we will do just that."
   ]
  },
  {
   "cell_type": "code",
   "execution_count": 6,
   "metadata": {},
   "outputs": [
    {
     "name": "stdout",
     "output_type": "stream",
     "text": [
      "1137\n"
     ]
    }
   ],
   "source": [
    "count = sum((~dataframe['VIN'].isna() & dataframe['year'].isna()))\n",
    "print(count)"
   ]
  },
  {
   "cell_type": "markdown",
   "metadata": {},
   "source": [
    "As we can see there are 1137 rows that have VIN but no year. Let's fix this - fill this missing data from VIN and then drop VIN column as it won't be needed later."
   ]
  },
  {
   "cell_type": "code",
   "execution_count": 7,
   "metadata": {},
   "outputs": [
    {
     "name": "stdout",
     "output_type": "stream",
     "text": [
      "VIN decoding error\n",
      "VIN decoding error\n",
      "VIN decoding error\n",
      "VIN decoding error\n",
      "VIN decoding error\n",
      "VIN decoding error\n",
      "VIN decoding error\n",
      "VIN decoding error\n",
      "VIN decoding error\n",
      "VIN decoding error\n",
      "VIN decoding error\n",
      "VIN decoding error\n"
     ]
    }
   ],
   "source": [
    "yearcodes_old = {'A':1980, 'B':1981, 'C':1982, 'D':1983, 'E':1984, 'F':1985, 'G':1986, 'H':1987, 'J':1988, 'K':1989, 'L':1990, 'M':1991, 'N':1992, 'P':1993, 'R':1994, 'S':1995, 'T':1996, 'V':1997, 'W':1998, 'X':1999, 'Y':2000, '1':2001, '2':2002, '3':2003, '4':2004, '5':2005, '6':2006, '7':2007, '8':2008, '9':2009}\n",
    "yearcodes_new = {'A':2010, 'B':2011, 'C':2012, 'D':2013, 'E':2014, 'F':2015, 'G':2016, 'H':2017, 'J':2018, 'K':2019, 'L':2020, 'M':2021, 'N':2022, 'P':2023}\n",
    "\n",
    "for i, row in dataframe[~dataframe['VIN'].isna()].iterrows():\n",
    "    if (row.isna()['year']):\n",
    "        vin = row['VIN']\n",
    "        try:\n",
    "            dataframe.at[i, 'year'] = (yearcodes_old[vin[9]] if vin[6].isnumeric() else yearcodes_new[vin[9]])\n",
    "        except:\n",
    "            print('VIN decoding error')\n",
    "            dataframe.drop(i, inplace=True)   #dropping where VIN couldn't be decoded"
   ]
  },
  {
   "cell_type": "code",
   "execution_count": 8,
   "metadata": {},
   "outputs": [
    {
     "name": "stdout",
     "output_type": "stream",
     "text": [
      "0\n"
     ]
    }
   ],
   "source": [
    "count = sum((~dataframe['VIN'].isna() & dataframe['year'].isna()))\n",
    "print(count)"
   ]
  },
  {
   "cell_type": "code",
   "execution_count": 9,
   "metadata": {},
   "outputs": [],
   "source": [
    "dataframe = dataframe.drop(['VIN'], axis=1)"
   ]
  },
  {
   "cell_type": "markdown",
   "metadata": {},
   "source": [
    "### Adjust price for inflation"
   ]
  },
  {
   "cell_type": "markdown",
   "metadata": {},
   "source": [
    "Adjusting price for inflation."
   ]
  },
  {
   "cell_type": "markdown",
   "metadata": {},
   "source": [
    "Here we adjust all the prices to 2022 dollar value so they can be compared.\n",
    "\n",
    "This is done using: https://github.com/palewire/cpi"
   ]
  },
  {
   "cell_type": "code",
   "execution_count": 10,
   "metadata": {},
   "outputs": [],
   "source": [
    "#dropping rows without:\n",
    "# - posting_date - needed for inflation adjustment\n",
    "# - price - one of targets\n",
    "\n",
    "dataframe.dropna(subset=['posting_date', 'price'], inplace=True)"
   ]
  },
  {
   "cell_type": "code",
   "execution_count": 11,
   "metadata": {},
   "outputs": [
    {
     "name": "stdout",
     "output_type": "stream",
     "text": [
      "30\n",
      "5\n"
     ]
    }
   ],
   "source": [
    "#change posting_date to posting_year, posting_month & posting_day\n",
    "dataframe['posting_year'] = dataframe['posting_date'].map(lambda x: int(x.split('-')[0]))\n",
    "dataframe['posting_month'] = dataframe['posting_date'].map(lambda x: int(x.split('-')[1]))\n",
    "dataframe['posting_day'] = dataframe['posting_date'].map(lambda x: int(x.split('-')[2][:2]))\n",
    "\n",
    "#check if months & days are reversed\n",
    "print(max(dataframe['posting_day']))\n",
    "print(max(dataframe['posting_month']))\n",
    "\n",
    "dataframe = dataframe.drop(['posting_date'],axis=1)"
   ]
  },
  {
   "cell_type": "code",
   "execution_count": 12,
   "metadata": {},
   "outputs": [],
   "source": [
    "import cpi\n",
    "cpi.update()\n",
    "dataframe.apply(lambda x: cpi.inflate(x['price'], x['posting_year']), axis=1)\n",
    "\n",
    "#dropping posting year as all data is from 2021\n",
    "dataframe = dataframe.drop(['posting_year'],axis=1)"
   ]
  },
  {
   "cell_type": "code",
   "execution_count": 13,
   "metadata": {},
   "outputs": [
    {
     "name": "stdout",
     "output_type": "stream",
     "text": [
      "(426800, 18)\n"
     ]
    },
    {
     "data": {
      "text/html": [
       "<div>\n",
       "<style scoped>\n",
       "    .dataframe tbody tr th:only-of-type {\n",
       "        vertical-align: middle;\n",
       "    }\n",
       "\n",
       "    .dataframe tbody tr th {\n",
       "        vertical-align: top;\n",
       "    }\n",
       "\n",
       "    .dataframe thead th {\n",
       "        text-align: right;\n",
       "    }\n",
       "</style>\n",
       "<table border=\"1\" class=\"dataframe\">\n",
       "  <thead>\n",
       "    <tr style=\"text-align: right;\">\n",
       "      <th></th>\n",
       "      <th>price</th>\n",
       "      <th>year</th>\n",
       "      <th>manufacturer</th>\n",
       "      <th>model</th>\n",
       "      <th>condition</th>\n",
       "      <th>cylinders</th>\n",
       "      <th>fuel</th>\n",
       "      <th>odometer</th>\n",
       "      <th>title_status</th>\n",
       "      <th>transmission</th>\n",
       "      <th>drive</th>\n",
       "      <th>type</th>\n",
       "      <th>paint_color</th>\n",
       "      <th>image_url</th>\n",
       "      <th>description</th>\n",
       "      <th>state</th>\n",
       "      <th>posting_month</th>\n",
       "      <th>posting_day</th>\n",
       "    </tr>\n",
       "  </thead>\n",
       "  <tbody>\n",
       "    <tr>\n",
       "      <th>27</th>\n",
       "      <td>33590</td>\n",
       "      <td>2014.0</td>\n",
       "      <td>gmc</td>\n",
       "      <td>sierra 1500 crew cab slt</td>\n",
       "      <td>good</td>\n",
       "      <td>8 cylinders</td>\n",
       "      <td>gas</td>\n",
       "      <td>57923.0</td>\n",
       "      <td>clean</td>\n",
       "      <td>other</td>\n",
       "      <td>NaN</td>\n",
       "      <td>pickup</td>\n",
       "      <td>white</td>\n",
       "      <td>https://images.craigslist.org/00R0R_lwWjXSEWNa...</td>\n",
       "      <td>Carvana is the safer way to buy a car During t...</td>\n",
       "      <td>al</td>\n",
       "      <td>5</td>\n",
       "      <td>4</td>\n",
       "    </tr>\n",
       "    <tr>\n",
       "      <th>28</th>\n",
       "      <td>22590</td>\n",
       "      <td>2010.0</td>\n",
       "      <td>chevrolet</td>\n",
       "      <td>silverado 1500</td>\n",
       "      <td>good</td>\n",
       "      <td>8 cylinders</td>\n",
       "      <td>gas</td>\n",
       "      <td>71229.0</td>\n",
       "      <td>clean</td>\n",
       "      <td>other</td>\n",
       "      <td>NaN</td>\n",
       "      <td>pickup</td>\n",
       "      <td>blue</td>\n",
       "      <td>https://images.craigslist.org/00R0R_lwWjXSEWNa...</td>\n",
       "      <td>Carvana is the safer way to buy a car During t...</td>\n",
       "      <td>al</td>\n",
       "      <td>5</td>\n",
       "      <td>4</td>\n",
       "    </tr>\n",
       "    <tr>\n",
       "      <th>29</th>\n",
       "      <td>39590</td>\n",
       "      <td>2020.0</td>\n",
       "      <td>chevrolet</td>\n",
       "      <td>silverado 1500 crew</td>\n",
       "      <td>good</td>\n",
       "      <td>8 cylinders</td>\n",
       "      <td>gas</td>\n",
       "      <td>19160.0</td>\n",
       "      <td>clean</td>\n",
       "      <td>other</td>\n",
       "      <td>NaN</td>\n",
       "      <td>pickup</td>\n",
       "      <td>red</td>\n",
       "      <td>https://images.craigslist.org/01212_jjirIWa0y0...</td>\n",
       "      <td>Carvana is the safer way to buy a car During t...</td>\n",
       "      <td>al</td>\n",
       "      <td>5</td>\n",
       "      <td>4</td>\n",
       "    </tr>\n",
       "    <tr>\n",
       "      <th>30</th>\n",
       "      <td>30990</td>\n",
       "      <td>2017.0</td>\n",
       "      <td>toyota</td>\n",
       "      <td>tundra double cab sr</td>\n",
       "      <td>good</td>\n",
       "      <td>8 cylinders</td>\n",
       "      <td>gas</td>\n",
       "      <td>41124.0</td>\n",
       "      <td>clean</td>\n",
       "      <td>other</td>\n",
       "      <td>NaN</td>\n",
       "      <td>pickup</td>\n",
       "      <td>red</td>\n",
       "      <td>https://images.craigslist.org/00x0x_1y9kIOzGCF...</td>\n",
       "      <td>Carvana is the safer way to buy a car During t...</td>\n",
       "      <td>al</td>\n",
       "      <td>5</td>\n",
       "      <td>4</td>\n",
       "    </tr>\n",
       "    <tr>\n",
       "      <th>31</th>\n",
       "      <td>15000</td>\n",
       "      <td>2013.0</td>\n",
       "      <td>ford</td>\n",
       "      <td>f-150 xlt</td>\n",
       "      <td>excellent</td>\n",
       "      <td>6 cylinders</td>\n",
       "      <td>gas</td>\n",
       "      <td>128000.0</td>\n",
       "      <td>clean</td>\n",
       "      <td>automatic</td>\n",
       "      <td>rwd</td>\n",
       "      <td>truck</td>\n",
       "      <td>black</td>\n",
       "      <td>https://images.craigslist.org/00404_l4loxHvdQe...</td>\n",
       "      <td>2013 F-150 XLT V6 4 Door. Good condition. Leve...</td>\n",
       "      <td>al</td>\n",
       "      <td>5</td>\n",
       "      <td>3</td>\n",
       "    </tr>\n",
       "    <tr>\n",
       "      <th>32</th>\n",
       "      <td>27990</td>\n",
       "      <td>2012.0</td>\n",
       "      <td>gmc</td>\n",
       "      <td>sierra 2500 hd extended cab</td>\n",
       "      <td>good</td>\n",
       "      <td>8 cylinders</td>\n",
       "      <td>gas</td>\n",
       "      <td>68696.0</td>\n",
       "      <td>clean</td>\n",
       "      <td>other</td>\n",
       "      <td>4wd</td>\n",
       "      <td>pickup</td>\n",
       "      <td>black</td>\n",
       "      <td>https://images.craigslist.org/00V0V_ftJbKrOgdi...</td>\n",
       "      <td>Carvana is the safer way to buy a car During t...</td>\n",
       "      <td>al</td>\n",
       "      <td>5</td>\n",
       "      <td>3</td>\n",
       "    </tr>\n",
       "    <tr>\n",
       "      <th>33</th>\n",
       "      <td>34590</td>\n",
       "      <td>2016.0</td>\n",
       "      <td>chevrolet</td>\n",
       "      <td>silverado 1500 double</td>\n",
       "      <td>good</td>\n",
       "      <td>6 cylinders</td>\n",
       "      <td>gas</td>\n",
       "      <td>29499.0</td>\n",
       "      <td>clean</td>\n",
       "      <td>other</td>\n",
       "      <td>4wd</td>\n",
       "      <td>pickup</td>\n",
       "      <td>silver</td>\n",
       "      <td>https://images.craigslist.org/00E0E_iKN07Sh7ou...</td>\n",
       "      <td>Carvana is the safer way to buy a car During t...</td>\n",
       "      <td>al</td>\n",
       "      <td>5</td>\n",
       "      <td>3</td>\n",
       "    </tr>\n",
       "    <tr>\n",
       "      <th>34</th>\n",
       "      <td>35000</td>\n",
       "      <td>2019.0</td>\n",
       "      <td>toyota</td>\n",
       "      <td>tacoma</td>\n",
       "      <td>excellent</td>\n",
       "      <td>6 cylinders</td>\n",
       "      <td>gas</td>\n",
       "      <td>43000.0</td>\n",
       "      <td>clean</td>\n",
       "      <td>automatic</td>\n",
       "      <td>4wd</td>\n",
       "      <td>truck</td>\n",
       "      <td>grey</td>\n",
       "      <td>https://images.craigslist.org/00101_dXoZTH7iVm...</td>\n",
       "      <td>Selling my 2019 Toyota Tacoma TRD Off Road Dou...</td>\n",
       "      <td>al</td>\n",
       "      <td>5</td>\n",
       "      <td>3</td>\n",
       "    </tr>\n",
       "    <tr>\n",
       "      <th>35</th>\n",
       "      <td>29990</td>\n",
       "      <td>2016.0</td>\n",
       "      <td>chevrolet</td>\n",
       "      <td>colorado extended cab</td>\n",
       "      <td>good</td>\n",
       "      <td>6 cylinders</td>\n",
       "      <td>gas</td>\n",
       "      <td>17302.0</td>\n",
       "      <td>clean</td>\n",
       "      <td>other</td>\n",
       "      <td>4wd</td>\n",
       "      <td>pickup</td>\n",
       "      <td>red</td>\n",
       "      <td>https://images.craigslist.org/00N0N_1xMPvfxRAI...</td>\n",
       "      <td>Carvana is the safer way to buy a car During t...</td>\n",
       "      <td>al</td>\n",
       "      <td>5</td>\n",
       "      <td>3</td>\n",
       "    </tr>\n",
       "    <tr>\n",
       "      <th>36</th>\n",
       "      <td>38590</td>\n",
       "      <td>2011.0</td>\n",
       "      <td>chevrolet</td>\n",
       "      <td>corvette grand sport</td>\n",
       "      <td>good</td>\n",
       "      <td>8 cylinders</td>\n",
       "      <td>gas</td>\n",
       "      <td>30237.0</td>\n",
       "      <td>clean</td>\n",
       "      <td>other</td>\n",
       "      <td>rwd</td>\n",
       "      <td>other</td>\n",
       "      <td>red</td>\n",
       "      <td>https://images.craigslist.org/00U0U_kKYnS1LWh8...</td>\n",
       "      <td>Carvana is the safer way to buy a car During t...</td>\n",
       "      <td>al</td>\n",
       "      <td>5</td>\n",
       "      <td>3</td>\n",
       "    </tr>\n",
       "  </tbody>\n",
       "</table>\n",
       "</div>"
      ],
      "text/plain": [
       "    price    year manufacturer                        model  condition  \\\n",
       "27  33590  2014.0          gmc     sierra 1500 crew cab slt       good   \n",
       "28  22590  2010.0    chevrolet               silverado 1500       good   \n",
       "29  39590  2020.0    chevrolet          silverado 1500 crew       good   \n",
       "30  30990  2017.0       toyota         tundra double cab sr       good   \n",
       "31  15000  2013.0         ford                    f-150 xlt  excellent   \n",
       "32  27990  2012.0          gmc  sierra 2500 hd extended cab       good   \n",
       "33  34590  2016.0    chevrolet        silverado 1500 double       good   \n",
       "34  35000  2019.0       toyota                       tacoma  excellent   \n",
       "35  29990  2016.0    chevrolet        colorado extended cab       good   \n",
       "36  38590  2011.0    chevrolet         corvette grand sport       good   \n",
       "\n",
       "      cylinders fuel  odometer title_status transmission drive    type  \\\n",
       "27  8 cylinders  gas   57923.0        clean        other   NaN  pickup   \n",
       "28  8 cylinders  gas   71229.0        clean        other   NaN  pickup   \n",
       "29  8 cylinders  gas   19160.0        clean        other   NaN  pickup   \n",
       "30  8 cylinders  gas   41124.0        clean        other   NaN  pickup   \n",
       "31  6 cylinders  gas  128000.0        clean    automatic   rwd   truck   \n",
       "32  8 cylinders  gas   68696.0        clean        other   4wd  pickup   \n",
       "33  6 cylinders  gas   29499.0        clean        other   4wd  pickup   \n",
       "34  6 cylinders  gas   43000.0        clean    automatic   4wd   truck   \n",
       "35  6 cylinders  gas   17302.0        clean        other   4wd  pickup   \n",
       "36  8 cylinders  gas   30237.0        clean        other   rwd   other   \n",
       "\n",
       "   paint_color                                          image_url  \\\n",
       "27       white  https://images.craigslist.org/00R0R_lwWjXSEWNa...   \n",
       "28        blue  https://images.craigslist.org/00R0R_lwWjXSEWNa...   \n",
       "29         red  https://images.craigslist.org/01212_jjirIWa0y0...   \n",
       "30         red  https://images.craigslist.org/00x0x_1y9kIOzGCF...   \n",
       "31       black  https://images.craigslist.org/00404_l4loxHvdQe...   \n",
       "32       black  https://images.craigslist.org/00V0V_ftJbKrOgdi...   \n",
       "33      silver  https://images.craigslist.org/00E0E_iKN07Sh7ou...   \n",
       "34        grey  https://images.craigslist.org/00101_dXoZTH7iVm...   \n",
       "35         red  https://images.craigslist.org/00N0N_1xMPvfxRAI...   \n",
       "36         red  https://images.craigslist.org/00U0U_kKYnS1LWh8...   \n",
       "\n",
       "                                          description state  posting_month  \\\n",
       "27  Carvana is the safer way to buy a car During t...    al              5   \n",
       "28  Carvana is the safer way to buy a car During t...    al              5   \n",
       "29  Carvana is the safer way to buy a car During t...    al              5   \n",
       "30  Carvana is the safer way to buy a car During t...    al              5   \n",
       "31  2013 F-150 XLT V6 4 Door. Good condition. Leve...    al              5   \n",
       "32  Carvana is the safer way to buy a car During t...    al              5   \n",
       "33  Carvana is the safer way to buy a car During t...    al              5   \n",
       "34  Selling my 2019 Toyota Tacoma TRD Off Road Dou...    al              5   \n",
       "35  Carvana is the safer way to buy a car During t...    al              5   \n",
       "36  Carvana is the safer way to buy a car During t...    al              5   \n",
       "\n",
       "    posting_day  \n",
       "27            4  \n",
       "28            4  \n",
       "29            4  \n",
       "30            4  \n",
       "31            3  \n",
       "32            3  \n",
       "33            3  \n",
       "34            3  \n",
       "35            3  \n",
       "36            3  "
      ]
     },
     "execution_count": 13,
     "metadata": {},
     "output_type": "execute_result"
    }
   ],
   "source": [
    "print(dataframe.shape)\n",
    "dataframe.head(10)"
   ]
  },
  {
   "cell_type": "markdown",
   "metadata": {},
   "source": [
    "### Columns"
   ]
  },
  {
   "cell_type": "markdown",
   "metadata": {},
   "source": [
    "Now let's take a closer look at values inside columns.\n",
    "\n",
    "First let's see for each column how many empty values and unique values it has."
   ]
  },
  {
   "cell_type": "code",
   "execution_count": 14,
   "metadata": {},
   "outputs": [
    {
     "data": {
      "text/html": [
       "<div>\n",
       "<style scoped>\n",
       "    .dataframe tbody tr th:only-of-type {\n",
       "        vertical-align: middle;\n",
       "    }\n",
       "\n",
       "    .dataframe tbody tr th {\n",
       "        vertical-align: top;\n",
       "    }\n",
       "\n",
       "    .dataframe thead th {\n",
       "        text-align: right;\n",
       "    }\n",
       "</style>\n",
       "<table border=\"1\" class=\"dataframe\">\n",
       "  <thead>\n",
       "    <tr style=\"text-align: right;\">\n",
       "      <th></th>\n",
       "      <th>name</th>\n",
       "      <th>empty</th>\n",
       "      <th>empty percent</th>\n",
       "      <th>unique</th>\n",
       "    </tr>\n",
       "  </thead>\n",
       "  <tbody>\n",
       "    <tr>\n",
       "      <th>0</th>\n",
       "      <td>price</td>\n",
       "      <td>0</td>\n",
       "      <td>0.0</td>\n",
       "      <td>15652</td>\n",
       "    </tr>\n",
       "    <tr>\n",
       "      <th>1</th>\n",
       "      <td>year</td>\n",
       "      <td>0</td>\n",
       "      <td>0.0</td>\n",
       "      <td>114</td>\n",
       "    </tr>\n",
       "    <tr>\n",
       "      <th>2</th>\n",
       "      <td>manufacturer</td>\n",
       "      <td>17566</td>\n",
       "      <td>4.1</td>\n",
       "      <td>43</td>\n",
       "    </tr>\n",
       "    <tr>\n",
       "      <th>3</th>\n",
       "      <td>model</td>\n",
       "      <td>5209</td>\n",
       "      <td>1.2</td>\n",
       "      <td>29666</td>\n",
       "    </tr>\n",
       "    <tr>\n",
       "      <th>4</th>\n",
       "      <td>condition</td>\n",
       "      <td>174024</td>\n",
       "      <td>40.8</td>\n",
       "      <td>7</td>\n",
       "    </tr>\n",
       "    <tr>\n",
       "      <th>5</th>\n",
       "      <td>cylinders</td>\n",
       "      <td>177609</td>\n",
       "      <td>41.6</td>\n",
       "      <td>9</td>\n",
       "    </tr>\n",
       "    <tr>\n",
       "      <th>6</th>\n",
       "      <td>fuel</td>\n",
       "      <td>2944</td>\n",
       "      <td>0.7</td>\n",
       "      <td>6</td>\n",
       "    </tr>\n",
       "    <tr>\n",
       "      <th>7</th>\n",
       "      <td>odometer</td>\n",
       "      <td>4331</td>\n",
       "      <td>1.0</td>\n",
       "      <td>104871</td>\n",
       "    </tr>\n",
       "    <tr>\n",
       "      <th>8</th>\n",
       "      <td>title_status</td>\n",
       "      <td>8174</td>\n",
       "      <td>1.9</td>\n",
       "      <td>7</td>\n",
       "    </tr>\n",
       "    <tr>\n",
       "      <th>9</th>\n",
       "      <td>transmission</td>\n",
       "      <td>2488</td>\n",
       "      <td>0.6</td>\n",
       "      <td>4</td>\n",
       "    </tr>\n",
       "    <tr>\n",
       "      <th>10</th>\n",
       "      <td>drive</td>\n",
       "      <td>130487</td>\n",
       "      <td>30.6</td>\n",
       "      <td>4</td>\n",
       "    </tr>\n",
       "    <tr>\n",
       "      <th>11</th>\n",
       "      <td>type</td>\n",
       "      <td>92778</td>\n",
       "      <td>21.7</td>\n",
       "      <td>14</td>\n",
       "    </tr>\n",
       "    <tr>\n",
       "      <th>12</th>\n",
       "      <td>paint_color</td>\n",
       "      <td>130134</td>\n",
       "      <td>30.5</td>\n",
       "      <td>13</td>\n",
       "    </tr>\n",
       "    <tr>\n",
       "      <th>13</th>\n",
       "      <td>image_url</td>\n",
       "      <td>0</td>\n",
       "      <td>0.0</td>\n",
       "      <td>241890</td>\n",
       "    </tr>\n",
       "    <tr>\n",
       "      <th>14</th>\n",
       "      <td>description</td>\n",
       "      <td>2</td>\n",
       "      <td>0.0</td>\n",
       "      <td>360901</td>\n",
       "    </tr>\n",
       "    <tr>\n",
       "      <th>15</th>\n",
       "      <td>state</td>\n",
       "      <td>0</td>\n",
       "      <td>0.0</td>\n",
       "      <td>51</td>\n",
       "    </tr>\n",
       "    <tr>\n",
       "      <th>16</th>\n",
       "      <td>posting_month</td>\n",
       "      <td>0</td>\n",
       "      <td>0.0</td>\n",
       "      <td>2</td>\n",
       "    </tr>\n",
       "    <tr>\n",
       "      <th>17</th>\n",
       "      <td>posting_day</td>\n",
       "      <td>0</td>\n",
       "      <td>0.0</td>\n",
       "      <td>30</td>\n",
       "    </tr>\n",
       "  </tbody>\n",
       "</table>\n",
       "</div>"
      ],
      "text/plain": [
       "             name   empty  empty percent  unique\n",
       "0           price       0            0.0   15652\n",
       "1            year       0            0.0     114\n",
       "2    manufacturer   17566            4.1      43\n",
       "3           model    5209            1.2   29666\n",
       "4       condition  174024           40.8       7\n",
       "5       cylinders  177609           41.6       9\n",
       "6            fuel    2944            0.7       6\n",
       "7        odometer    4331            1.0  104871\n",
       "8    title_status    8174            1.9       7\n",
       "9    transmission    2488            0.6       4\n",
       "10          drive  130487           30.6       4\n",
       "11           type   92778           21.7      14\n",
       "12    paint_color  130134           30.5      13\n",
       "13      image_url       0            0.0  241890\n",
       "14    description       2            0.0  360901\n",
       "15          state       0            0.0      51\n",
       "16  posting_month       0            0.0       2\n",
       "17    posting_day       0            0.0      30"
      ]
     },
     "execution_count": 14,
     "metadata": {},
     "output_type": "execute_result"
    }
   ],
   "source": [
    "dataframe_col_stats = pd.DataFrame(dataframe.columns, columns=['name'])\n",
    "dataframe_col_stats['empty'] = [sum(dataframe[name].isna()) for name in dataframe_col_stats['name']]\n",
    "dataframe_col_stats['empty percent'] = [round(dataframe[name].isna().mean()*100, 1) for name in dataframe_col_stats['name']]\n",
    "dataframe_col_stats['unique'] = [len(dataframe[name].unique()) for name in dataframe_col_stats['name']]\n",
    "dataframe_col_stats"
   ]
  },
  {
   "cell_type": "markdown",
   "metadata": {},
   "source": [
    "First thing that can be easily spotted is the fact that columns: state, posting_month and posting_day are totally all right. No null values, 30 days in a monts, data collected over a span of 2 months ant there are 51 states in USA. Also image_url and description will be used for later models to deduce someting from images/text and they will construct two new, independent datasets so let's leave them for now.\n",
    "\n",
    "Let's focus on columns 0-12 for now."
   ]
  },
  {
   "cell_type": "code",
   "execution_count": 15,
   "metadata": {},
   "outputs": [
    {
     "name": "stdout",
     "output_type": "stream",
     "text": [
      "[2014. 2010. 2020. 2017. 2013. 2012. 2016. 2019. 2011. 1992. 2018. 2004.\n",
      " 2015. 2001. 2006. 1968. 2003. 2008. 2007. 2005. 1966. 2009. 1998. 2002.\n",
      " 1999. 2021. 1997. 1976. 1969. 1995. 1978. 1954. 1979. 1970. 1974. 1996.\n",
      " 1987. 2000. 1955. 1960. 1991. 1972. 1988. 1994. 1929. 1984. 1986. 1989.\n",
      " 1973. 1946. 1933. 1958. 1937. 1985. 1957. 1953. 1942. 1963. 1977. 1993.\n",
      " 1903. 1990. 1965. 1982. 1948. 1983. 1936. 1932. 1951. 1931. 1980. 1967.\n",
      " 1971. 1947. 1981. 1926. 1962. 1975. 1964. 1934. 1952. 1940. 1959. 1950.\n",
      " 1930. 1956. 1922. 1928. 2022. 1901. 1941. 1924. 1927. 1939. 1923. 1949.\n",
      " 1961. 1935. 1918. 1900. 1938. 1913. 1916. 1943. 1925. 1921. 1915. 1945.\n",
      " 1902. 1905. 1920. 1944. 1910. 1909.]\n"
     ]
    }
   ],
   "source": [
    "#price - ok no nulls & int type\n",
    "#year - need to convert to int\n",
    "print(dataframe['year'].unique())\n",
    "dataframe['year'] = dataframe['year'].map(lambda x: int(x))\n",
    "dataframe = dataframe.astype({'year':int})"
   ]
  },
  {
   "cell_type": "code",
   "execution_count": 16,
   "metadata": {},
   "outputs": [
    {
     "name": "stdout",
     "output_type": "stream",
     "text": [
      "Data reduced by: 5.335988753514527%\n"
     ]
    }
   ],
   "source": [
    "#manufacturer/model - very important columns, not a lot of empty values so let's drop rows without values in this row\n",
    "size1 = dataframe.shape[0]\n",
    "dataframe.dropna(subset=['manufacturer', 'model'], inplace=True)\n",
    "size2 = dataframe.shape[0]\n",
    "\n",
    "print(\"Data reduced by: \", (size1 - size2)*100/size1, \"%\", sep='')\n"
   ]
  },
  {
   "cell_type": "code",
   "execution_count": 17,
   "metadata": {},
   "outputs": [],
   "source": [
    "#odometer - also very important, drop empty & convert to int\n",
    "dataframe.dropna(subset=['odometer'], inplace=True)\n",
    "dataframe['odometer'] = dataframe['odometer'].map(lambda x: int(x))\n",
    "dataframe = dataframe.astype({'odometer':int})\n",
    "dataframe.dropna(subset=['odometer'], inplace=True)"
   ]
  },
  {
   "cell_type": "code",
   "execution_count": 18,
   "metadata": {},
   "outputs": [
    {
     "name": "stdout",
     "output_type": "stream",
     "text": [
      "['good' 'excellent' 'fair' 'like new' 'new' nan 'salvage']\n"
     ]
    }
   ],
   "source": [
    "#condition - let's encode it as numerical ordered data  property\n",
    "print(dataframe['condition'].unique())\n",
    "condition_enc = {'condition': {'salvage': int(-1), 'fair': int(0), 'good': int(1), 'excellent': int(2), 'like new': int(3), 'new': int(4)}}   #salvage - negative, fair - neutral, rest - positive"
   ]
  },
  {
   "cell_type": "markdown",
   "metadata": {},
   "source": [
    "The only problem is that there is a lot of missing data in this column, but it can be really helpful because as we know car prices vary vastly depending on their state.\n",
    "Let's assume that when a car is in a very bad/good state it would be mentioned in the offer and that state of the car is dependent on it's mileage.\n",
    "Let's try to fill in some missing data - if a car's mileage/price is near mean and it has no condition let's set it to 'fair' and then delete the rest.\n",
    "'title_status' may also help with condition because they somewhat overlap."
   ]
  },
  {
   "cell_type": "code",
   "execution_count": 19,
   "metadata": {},
   "outputs": [
    {
     "name": "stdout",
     "output_type": "stream",
     "text": [
      "['clean' 'rebuilt' 'lien' nan 'salvage' 'missing' 'parts only']\n"
     ]
    }
   ],
   "source": [
    "print(dataframe['title_status'].unique())"
   ]
  },
  {
   "cell_type": "markdown",
   "metadata": {},
   "source": [
    "As we can see values like 'clean' or 'rebuilt' indicate good condition while 'salvage', 'missing' and 'parts only' bad. So let's fill some 'condition' data based on these."
   ]
  },
  {
   "cell_type": "code",
   "execution_count": 20,
   "metadata": {},
   "outputs": [],
   "source": [
    "tr_dict = {'clean': 1, 'rebuilt': 3, 'salvage': -1, 'missing': -1, 'parts only': -1}\n",
    "for i, row in dataframe[~dataframe['condition'].isna()].iterrows():\n",
    "    if (~row.isna()['title_status'] and row['title_status'] != 'lien'):\n",
    "        dataframe.at[i, 'condition'] = tr_dict[row['title_status']]"
   ]
  },
  {
   "cell_type": "code",
   "execution_count": 21,
   "metadata": {},
   "outputs": [
    {
     "name": "stdout",
     "output_type": "stream",
     "text": [
      "162089\n",
      "40.5\n"
     ]
    }
   ],
   "source": [
    "print(sum(dataframe['condition'].isna()))\n",
    "print(round(dataframe['condition'].isna().mean()*100, 1))\n",
    "\n",
    "#not a big change but still some :')"
   ]
  },
  {
   "cell_type": "code",
   "execution_count": 22,
   "metadata": {},
   "outputs": [],
   "source": [
    "model_pricemileage = {}\n",
    "for i, row in dataframe.iterrows():\n",
    "    if row['model'] in model_pricemileage:\n",
    "        model_pricemileage[row['model']][0].append(row['price'])\n",
    "        model_pricemileage[row['model']][1].append(row['odometer'])\n",
    "    else:\n",
    "        model_pricemileage[row['model']] = [[row['price']],[row['odometer']]]\n",
    "\n",
    "model_avgpricemileage = {}\n",
    "for key in model_pricemileage.keys():\n",
    "    prices = model_pricemileage[key][0]\n",
    "    mileages = model_pricemileage[key][1]\n",
    "    model_avgpricemileage[key] = [sum(prices)/len(prices), sum(mileages)/len(mileages)]"
   ]
  },
  {
   "cell_type": "code",
   "execution_count": 23,
   "metadata": {},
   "outputs": [],
   "source": [
    "#3% margin\n",
    "for i, row in dataframe[dataframe['condition'].isna()].iterrows():\n",
    "    model = row['model']\n",
    "    if(row['price'] < 1.03*model_avgpricemileage[model][0] and row['price'] > 0.97*model_avgpricemileage[model][0]):\n",
    "        if(row['odometer'] < 1.03*model_avgpricemileage[model][1] and row['odometer'] > 0.97*model_avgpricemileage[model][1]):\n",
    "            dataframe.at[i, 'condition'] = 'fair'"
   ]
  },
  {
   "cell_type": "code",
   "execution_count": 24,
   "metadata": {},
   "outputs": [
    {
     "name": "stdout",
     "output_type": "stream",
     "text": [
      "151458\n",
      "37.9\n"
     ]
    }
   ],
   "source": [
    "print(sum(dataframe['condition'].isna()))\n",
    "print(round(dataframe['condition'].isna().mean()*100, 1))\n",
    "\n",
    "#a bit better :')"
   ]
  },
  {
   "cell_type": "code",
   "execution_count": 25,
   "metadata": {},
   "outputs": [],
   "source": [
    "dataframe.dropna(subset=['condition'], inplace=True)\n",
    "dataframe = dataframe.replace(condition_enc)"
   ]
  },
  {
   "cell_type": "code",
   "execution_count": 26,
   "metadata": {},
   "outputs": [
    {
     "name": "stdout",
     "output_type": "stream",
     "text": [
      "['other' 'automatic' 'manual']\n"
     ]
    }
   ],
   "source": [
    "#transmission -> delete missing & one hot encode\n",
    "dataframe.dropna(subset=['transmission'], inplace=True)\n",
    "print(dataframe['transmission'].unique())\n",
    "dummy_df = pd.get_dummies(dataframe['transmission'], prefix='transmission_')\n",
    "dataframe = pd.concat([dataframe, dummy_df], axis=1)\n",
    "dataframe = dataframe.drop(['transmission'], axis=1)"
   ]
  },
  {
   "cell_type": "code",
   "execution_count": 27,
   "metadata": {},
   "outputs": [
    {
     "name": "stdout",
     "output_type": "stream",
     "text": [
      "['clean' 'rebuilt' 'lien' 'salvage' 'missing' 'parts only']\n"
     ]
    }
   ],
   "source": [
    "#title_status -> lien, missing, parts only as one hot, delete rest\n",
    "dataframe.dropna(subset=['title_status'], inplace=True)\n",
    "print(dataframe['title_status'].unique())\n",
    "dummy_df = pd.get_dummies(dataframe['title_status'])\n",
    "dataframe = pd.concat([dataframe, dummy_df], axis=1)\n",
    "dataframe = dataframe.drop(['title_status'], axis=1)\n",
    "dataframe = dataframe.drop(['clean'], axis=1)\n",
    "dataframe = dataframe.drop(['rebuilt'], axis=1)\n",
    "dataframe = dataframe.drop(['salvage'], axis=1)"
   ]
  },
  {
   "cell_type": "code",
   "execution_count": 28,
   "metadata": {},
   "outputs": [
    {
     "name": "stdout",
     "output_type": "stream",
     "text": [
      "['gas' 'other' 'diesel' 'hybrid' 'electric']\n"
     ]
    }
   ],
   "source": [
    "#fuel - very importnant, not a lot empty, drop empty, one hot encode\n",
    "dataframe.dropna(subset=['fuel'], inplace=True)\n",
    "print(dataframe['fuel'].unique())\n",
    "dummy_df = pd.get_dummies(dataframe['fuel'])\n",
    "dataframe = pd.concat([dataframe, dummy_df], axis=1)\n",
    "dataframe = dataframe.drop(['fuel'], axis=1)"
   ]
  },
  {
   "cell_type": "code",
   "execution_count": 29,
   "metadata": {},
   "outputs": [
    {
     "name": "stdout",
     "output_type": "stream",
     "text": [
      "['rwd' '4wd' 'fwd']\n"
     ]
    }
   ],
   "source": [
    "#drive - very important, drop empty, one hot encode\n",
    "dataframe.dropna(subset=['drive'], inplace=True)\n",
    "print(dataframe['drive'].unique())\n",
    "dummy_df = pd.get_dummies(dataframe['drive'])\n",
    "dataframe = pd.concat([dataframe, dummy_df], axis=1)\n",
    "dataframe = dataframe.drop(['drive'], axis=1)"
   ]
  },
  {
   "cell_type": "code",
   "execution_count": 30,
   "metadata": {},
   "outputs": [
    {
     "name": "stdout",
     "output_type": "stream",
     "text": [
      "(184380, 28)\n"
     ]
    },
    {
     "data": {
      "text/html": [
       "<div>\n",
       "<style scoped>\n",
       "    .dataframe tbody tr th:only-of-type {\n",
       "        vertical-align: middle;\n",
       "    }\n",
       "\n",
       "    .dataframe tbody tr th {\n",
       "        vertical-align: top;\n",
       "    }\n",
       "\n",
       "    .dataframe thead th {\n",
       "        text-align: right;\n",
       "    }\n",
       "</style>\n",
       "<table border=\"1\" class=\"dataframe\">\n",
       "  <thead>\n",
       "    <tr style=\"text-align: right;\">\n",
       "      <th></th>\n",
       "      <th>name</th>\n",
       "      <th>empty</th>\n",
       "      <th>empty percent</th>\n",
       "      <th>unique</th>\n",
       "    </tr>\n",
       "  </thead>\n",
       "  <tbody>\n",
       "    <tr>\n",
       "      <th>0</th>\n",
       "      <td>price</td>\n",
       "      <td>0</td>\n",
       "      <td>0.0</td>\n",
       "      <td>7050</td>\n",
       "    </tr>\n",
       "    <tr>\n",
       "      <th>1</th>\n",
       "      <td>year</td>\n",
       "      <td>0</td>\n",
       "      <td>0.0</td>\n",
       "      <td>104</td>\n",
       "    </tr>\n",
       "    <tr>\n",
       "      <th>2</th>\n",
       "      <td>manufacturer</td>\n",
       "      <td>0</td>\n",
       "      <td>0.0</td>\n",
       "      <td>41</td>\n",
       "    </tr>\n",
       "    <tr>\n",
       "      <th>3</th>\n",
       "      <td>model</td>\n",
       "      <td>0</td>\n",
       "      <td>0.0</td>\n",
       "      <td>16909</td>\n",
       "    </tr>\n",
       "    <tr>\n",
       "      <th>4</th>\n",
       "      <td>condition</td>\n",
       "      <td>0</td>\n",
       "      <td>0.0</td>\n",
       "      <td>6</td>\n",
       "    </tr>\n",
       "    <tr>\n",
       "      <th>5</th>\n",
       "      <td>cylinders</td>\n",
       "      <td>38887</td>\n",
       "      <td>21.1</td>\n",
       "      <td>9</td>\n",
       "    </tr>\n",
       "    <tr>\n",
       "      <th>6</th>\n",
       "      <td>odometer</td>\n",
       "      <td>0</td>\n",
       "      <td>0.0</td>\n",
       "      <td>54251</td>\n",
       "    </tr>\n",
       "    <tr>\n",
       "      <th>7</th>\n",
       "      <td>type</td>\n",
       "      <td>17709</td>\n",
       "      <td>9.6</td>\n",
       "      <td>14</td>\n",
       "    </tr>\n",
       "    <tr>\n",
       "      <th>8</th>\n",
       "      <td>paint_color</td>\n",
       "      <td>27001</td>\n",
       "      <td>14.6</td>\n",
       "      <td>13</td>\n",
       "    </tr>\n",
       "    <tr>\n",
       "      <th>9</th>\n",
       "      <td>image_url</td>\n",
       "      <td>0</td>\n",
       "      <td>0.0</td>\n",
       "      <td>113047</td>\n",
       "    </tr>\n",
       "    <tr>\n",
       "      <th>10</th>\n",
       "      <td>description</td>\n",
       "      <td>0</td>\n",
       "      <td>0.0</td>\n",
       "      <td>157684</td>\n",
       "    </tr>\n",
       "    <tr>\n",
       "      <th>11</th>\n",
       "      <td>state</td>\n",
       "      <td>0</td>\n",
       "      <td>0.0</td>\n",
       "      <td>51</td>\n",
       "    </tr>\n",
       "    <tr>\n",
       "      <th>12</th>\n",
       "      <td>posting_month</td>\n",
       "      <td>0</td>\n",
       "      <td>0.0</td>\n",
       "      <td>2</td>\n",
       "    </tr>\n",
       "    <tr>\n",
       "      <th>13</th>\n",
       "      <td>posting_day</td>\n",
       "      <td>0</td>\n",
       "      <td>0.0</td>\n",
       "      <td>30</td>\n",
       "    </tr>\n",
       "    <tr>\n",
       "      <th>14</th>\n",
       "      <td>transmission__automatic</td>\n",
       "      <td>0</td>\n",
       "      <td>0.0</td>\n",
       "      <td>2</td>\n",
       "    </tr>\n",
       "    <tr>\n",
       "      <th>15</th>\n",
       "      <td>transmission__manual</td>\n",
       "      <td>0</td>\n",
       "      <td>0.0</td>\n",
       "      <td>2</td>\n",
       "    </tr>\n",
       "    <tr>\n",
       "      <th>16</th>\n",
       "      <td>transmission__other</td>\n",
       "      <td>0</td>\n",
       "      <td>0.0</td>\n",
       "      <td>2</td>\n",
       "    </tr>\n",
       "    <tr>\n",
       "      <th>17</th>\n",
       "      <td>lien</td>\n",
       "      <td>0</td>\n",
       "      <td>0.0</td>\n",
       "      <td>2</td>\n",
       "    </tr>\n",
       "    <tr>\n",
       "      <th>18</th>\n",
       "      <td>missing</td>\n",
       "      <td>0</td>\n",
       "      <td>0.0</td>\n",
       "      <td>2</td>\n",
       "    </tr>\n",
       "    <tr>\n",
       "      <th>19</th>\n",
       "      <td>parts only</td>\n",
       "      <td>0</td>\n",
       "      <td>0.0</td>\n",
       "      <td>2</td>\n",
       "    </tr>\n",
       "    <tr>\n",
       "      <th>20</th>\n",
       "      <td>diesel</td>\n",
       "      <td>0</td>\n",
       "      <td>0.0</td>\n",
       "      <td>2</td>\n",
       "    </tr>\n",
       "    <tr>\n",
       "      <th>21</th>\n",
       "      <td>electric</td>\n",
       "      <td>0</td>\n",
       "      <td>0.0</td>\n",
       "      <td>2</td>\n",
       "    </tr>\n",
       "    <tr>\n",
       "      <th>22</th>\n",
       "      <td>gas</td>\n",
       "      <td>0</td>\n",
       "      <td>0.0</td>\n",
       "      <td>2</td>\n",
       "    </tr>\n",
       "    <tr>\n",
       "      <th>23</th>\n",
       "      <td>hybrid</td>\n",
       "      <td>0</td>\n",
       "      <td>0.0</td>\n",
       "      <td>2</td>\n",
       "    </tr>\n",
       "    <tr>\n",
       "      <th>24</th>\n",
       "      <td>other</td>\n",
       "      <td>0</td>\n",
       "      <td>0.0</td>\n",
       "      <td>2</td>\n",
       "    </tr>\n",
       "    <tr>\n",
       "      <th>25</th>\n",
       "      <td>4wd</td>\n",
       "      <td>0</td>\n",
       "      <td>0.0</td>\n",
       "      <td>2</td>\n",
       "    </tr>\n",
       "    <tr>\n",
       "      <th>26</th>\n",
       "      <td>fwd</td>\n",
       "      <td>0</td>\n",
       "      <td>0.0</td>\n",
       "      <td>2</td>\n",
       "    </tr>\n",
       "    <tr>\n",
       "      <th>27</th>\n",
       "      <td>rwd</td>\n",
       "      <td>0</td>\n",
       "      <td>0.0</td>\n",
       "      <td>2</td>\n",
       "    </tr>\n",
       "  </tbody>\n",
       "</table>\n",
       "</div>"
      ],
      "text/plain": [
       "                       name  empty  empty percent  unique\n",
       "0                     price      0            0.0    7050\n",
       "1                      year      0            0.0     104\n",
       "2              manufacturer      0            0.0      41\n",
       "3                     model      0            0.0   16909\n",
       "4                 condition      0            0.0       6\n",
       "5                 cylinders  38887           21.1       9\n",
       "6                  odometer      0            0.0   54251\n",
       "7                      type  17709            9.6      14\n",
       "8               paint_color  27001           14.6      13\n",
       "9                 image_url      0            0.0  113047\n",
       "10              description      0            0.0  157684\n",
       "11                    state      0            0.0      51\n",
       "12            posting_month      0            0.0       2\n",
       "13              posting_day      0            0.0      30\n",
       "14  transmission__automatic      0            0.0       2\n",
       "15     transmission__manual      0            0.0       2\n",
       "16      transmission__other      0            0.0       2\n",
       "17                     lien      0            0.0       2\n",
       "18                  missing      0            0.0       2\n",
       "19               parts only      0            0.0       2\n",
       "20                   diesel      0            0.0       2\n",
       "21                 electric      0            0.0       2\n",
       "22                      gas      0            0.0       2\n",
       "23                   hybrid      0            0.0       2\n",
       "24                    other      0            0.0       2\n",
       "25                      4wd      0            0.0       2\n",
       "26                      fwd      0            0.0       2\n",
       "27                      rwd      0            0.0       2"
      ]
     },
     "execution_count": 30,
     "metadata": {},
     "output_type": "execute_result"
    }
   ],
   "source": [
    "dataframe_col_stats = pd.DataFrame(dataframe.columns, columns=['name'])\n",
    "dataframe_col_stats['empty'] = [sum(dataframe[name].isna()) for name in dataframe_col_stats['name']]\n",
    "dataframe_col_stats['empty percent'] = [round(dataframe[name].isna().mean()*100, 1) for name in dataframe_col_stats['name']]\n",
    "dataframe_col_stats['unique'] = [len(dataframe[name].unique()) for name in dataframe_col_stats['name']]\n",
    "print(dataframe.shape)\n",
    "dataframe_col_stats"
   ]
  },
  {
   "cell_type": "markdown",
   "metadata": {},
   "source": [
    "Since all of the models in this project will probably be fitted on my computer I will have to reduce the size of this dataset either way. So deleting all data rows without type, cylinders or paint_color that can lead to interesting endevaours doesn't seem so bad."
   ]
  },
  {
   "cell_type": "code",
   "execution_count": 31,
   "metadata": {},
   "outputs": [
    {
     "name": "stdout",
     "output_type": "stream",
     "text": [
      "['black' 'silver' 'grey' 'red' 'blue' 'white' 'brown' 'yellow' 'green'\n",
      " 'orange' 'custom' 'purple']\n"
     ]
    }
   ],
   "source": [
    "#paint_color\n",
    "dataframe.dropna(subset=['paint_color'], inplace=True)\n",
    "print(dataframe['paint_color'].unique())"
   ]
  },
  {
   "cell_type": "code",
   "execution_count": 32,
   "metadata": {},
   "outputs": [
    {
     "name": "stdout",
     "output_type": "stream",
     "text": [
      "['truck' 'pickup' 'other' 'coupe' 'SUV' 'hatchback' 'mini-van' 'sedan'\n",
      " 'offroad' 'van' 'convertible' 'wagon' 'bus']\n"
     ]
    }
   ],
   "source": [
    "#type\n",
    "dataframe.dropna(subset=['type'], inplace=True)\n",
    "print(dataframe['type'].unique())"
   ]
  },
  {
   "cell_type": "code",
   "execution_count": 33,
   "metadata": {},
   "outputs": [
    {
     "name": "stdout",
     "output_type": "stream",
     "text": [
      "['6 cylinders' '8 cylinders' '4 cylinders' '5 cylinders' '10 cylinders'\n",
      " '3 cylinders' 'other' '12 cylinders']\n"
     ]
    }
   ],
   "source": [
    "#cylinders - drop empty, change type\n",
    "dataframe.dropna(subset=['cylinders'], inplace=True)\n",
    "print(dataframe['cylinders'].unique())\n",
    "dataframe['cylinders'] = dataframe['cylinders'].map(lambda x: int(x.split(' ')[0]) if x != 'other' else int(0))"
   ]
  },
  {
   "cell_type": "code",
   "execution_count": 34,
   "metadata": {},
   "outputs": [],
   "source": [
    "#posting_day/posting_month - don't matter for modelling over 2 month period\n",
    "dataframe = dataframe.drop(['posting_day'],axis=1)\n",
    "dataframe = dataframe.drop(['posting_month'],axis=1)"
   ]
  },
  {
   "cell_type": "code",
   "execution_count": 35,
   "metadata": {},
   "outputs": [],
   "source": [
    "#model - normalising\n",
    "dataframe['model'] = dataframe['model'].map(lambda x: x.split(' ')[0])"
   ]
  },
  {
   "cell_type": "markdown",
   "metadata": {},
   "source": [
    "Although some badges will appear as model names, it can't be done better as models in this dataset are offer names and have different oreders of words in them so filtering out exact model in uniform way is very hard. It's still additional data for the model."
   ]
  },
  {
   "cell_type": "markdown",
   "metadata": {},
   "source": [
    "### Result"
   ]
  },
  {
   "cell_type": "code",
   "execution_count": 36,
   "metadata": {},
   "outputs": [
    {
     "name": "stdout",
     "output_type": "stream",
     "text": [
      "<class 'pandas.core.frame.DataFrame'>\n",
      "Int64Index: 119304 entries, 31 to 426878\n",
      "Data columns (total 26 columns):\n",
      " #   Column                   Non-Null Count   Dtype \n",
      "---  ------                   --------------   ----- \n",
      " 0   price                    119304 non-null  int64 \n",
      " 1   year                     119304 non-null  int64 \n",
      " 2   manufacturer             119304 non-null  object\n",
      " 3   model                    119304 non-null  object\n",
      " 4   condition                119304 non-null  int64 \n",
      " 5   cylinders                119304 non-null  int64 \n",
      " 6   odometer                 119304 non-null  int64 \n",
      " 7   type                     119304 non-null  object\n",
      " 8   paint_color              119304 non-null  object\n",
      " 9   image_url                119304 non-null  object\n",
      " 10  description              119304 non-null  object\n",
      " 11  state                    119304 non-null  object\n",
      " 12  transmission__automatic  119304 non-null  uint8 \n",
      " 13  transmission__manual     119304 non-null  uint8 \n",
      " 14  transmission__other      119304 non-null  uint8 \n",
      " 15  lien                     119304 non-null  uint8 \n",
      " 16  missing                  119304 non-null  uint8 \n",
      " 17  parts only               119304 non-null  uint8 \n",
      " 18  diesel                   119304 non-null  uint8 \n",
      " 19  electric                 119304 non-null  uint8 \n",
      " 20  gas                      119304 non-null  uint8 \n",
      " 21  hybrid                   119304 non-null  uint8 \n",
      " 22  other                    119304 non-null  uint8 \n",
      " 23  4wd                      119304 non-null  uint8 \n",
      " 24  fwd                      119304 non-null  uint8 \n",
      " 25  rwd                      119304 non-null  uint8 \n",
      "dtypes: int64(5), object(7), uint8(14)\n",
      "memory usage: 13.4+ MB\n"
     ]
    }
   ],
   "source": [
    "dataframe.dropna(inplace=True)\n",
    "dataframe.head(10)\n",
    "dataframe.info()"
   ]
  },
  {
   "cell_type": "code",
   "execution_count": 37,
   "metadata": {},
   "outputs": [],
   "source": [
    "dataframe.to_csv('basic_data.csv', index=False)"
   ]
  },
  {
   "cell_type": "markdown",
   "metadata": {},
   "source": [
    "# **II. Data Analisys**"
   ]
  },
  {
   "cell_type": "markdown",
   "metadata": {},
   "source": [
    "Now let's take a look at all this data and try to notice some relations. Based on that we will decide whether this dataset is realistic."
   ]
  },
  {
   "cell_type": "code",
   "execution_count": 38,
   "metadata": {},
   "outputs": [],
   "source": [
    "import numpy as np\n",
    "import pandas as pd \n",
    "import matplotlib.pyplot as plt\n",
    "plt.style.use('dark_background')"
   ]
  },
  {
   "cell_type": "code",
   "execution_count": 39,
   "metadata": {},
   "outputs": [],
   "source": [
    "dataframe = pd.read_csv('basic_data.csv')"
   ]
  },
  {
   "cell_type": "code",
   "execution_count": 40,
   "metadata": {},
   "outputs": [
    {
     "name": "stdout",
     "output_type": "stream",
     "text": [
      "Index(['price', 'year', 'manufacturer', 'model', 'condition', 'cylinders',\n",
      "       'odometer', 'type', 'paint_color', 'image_url', 'description', 'state',\n",
      "       'transmission__automatic', 'transmission__manual',\n",
      "       'transmission__other', 'lien', 'missing', 'parts only', 'diesel',\n",
      "       'electric', 'gas', 'hybrid', 'other', '4wd', 'fwd', 'rwd'],\n",
      "      dtype='object')\n"
     ]
    }
   ],
   "source": [
    "print(dataframe.columns)"
   ]
  },
  {
   "cell_type": "markdown",
   "metadata": {},
   "source": [
    "## A. Basic aspects"
   ]
  },
  {
   "cell_type": "code",
   "execution_count": 41,
   "metadata": {},
   "outputs": [
    {
     "data": {
      "image/png": "[encoded data removed]",
      "text/plain": [
       "<Figure size 2016x504 with 12 Axes>"
      ]
     },
     "metadata": {
      "needs_background": "dark"
     },
     "output_type": "display_data"
    }
   ],
   "source": [
    "#sns.pairplot took way too long to draw\n",
    "\n",
    "fig, axs = plt.subplots(2, 6, figsize=(28, 7))\n",
    "fig.suptitle('Basic pairplots')\n",
    "\n",
    "axs[0, 0].scatter(dataframe['year'], dataframe['price'], alpha=0.3)\n",
    "axs[0, 0].set_ylim(0, 1000000)\n",
    "axs[0, 0].set_title('Price(Year)')\n",
    "\n",
    "axs[0, 1].scatter(dataframe['odometer'], dataframe['price'], alpha=0.3)\n",
    "axs[0, 1].set_xlim(0, 500000)\n",
    "axs[0, 1].set_ylim(0, 1000000)\n",
    "axs[0, 1].set_title('Price(Odometer)')\n",
    "\n",
    "axs[0, 2].scatter(dataframe['year'], dataframe['condition'], alpha=0.3)\n",
    "axs[0, 2].set_title('Condition(Year)')\n",
    "\n",
    "axs[1, 0].boxplot([dataframe[dataframe['condition']==-1]['price'],\n",
    "                dataframe[dataframe['condition']==0]['price'],\n",
    "                dataframe[dataframe['condition']==1]['price'], \n",
    "                dataframe[dataframe['condition']==2]['price'],\n",
    "                dataframe[dataframe['condition']==3]['price'],\n",
    "                dataframe[dataframe['condition']==4]['price']], \n",
    "                labels=[-1, 0, 1, 2, 3, 4],\n",
    "                boxprops=dict(color='C0'),\n",
    "                capprops=dict(color='C0'),\n",
    "                whiskerprops=dict(color='C0'), \n",
    "                medianprops=dict(color='C0'), showfliers=False)\n",
    "axs[1, 0].set_title('Price(Condition)')\n",
    "\n",
    "axs[1, 1].scatter(dataframe['year'], dataframe['odometer'], alpha=0.3)\n",
    "axs[1, 1].set_ylim(0, 1000000)\n",
    "axs[1, 1].set_title('Odometer(Year)')\n",
    "\n",
    "axs[1, 2].scatter(dataframe['odometer'], dataframe['condition'], alpha=0.3)\n",
    "axs[1, 2].set_xlim(0, 1000000)\n",
    "axs[1, 2].set_title('Condition(Odometer)')\n",
    "\n",
    "axs[0, 3].boxplot([dataframe[dataframe['gas']==1]['price'],\n",
    "                dataframe[dataframe['diesel']==1]['price'],\n",
    "                dataframe[dataframe['electric']==1]['price'], \n",
    "                dataframe[dataframe['other']==1]['price']], \n",
    "                labels=['gas', 'diesel', 'electric', 'other'],\n",
    "                boxprops=dict(color='C0'),\n",
    "                capprops=dict(color='C0'),\n",
    "                whiskerprops=dict(color='C0'), \n",
    "                medianprops=dict(color='C0'), showfliers=False)\n",
    "axs[0, 3].set_title('Price(Fuel)')\n",
    "\n",
    "axs[1, 3].boxplot([dataframe[dataframe['cylinders']==i]['price'] for i in dataframe['cylinders'].unique()], \n",
    "                labels=dataframe['cylinders'].unique(),\n",
    "                boxprops=dict(color='C0'),\n",
    "                capprops=dict(color='C0'),\n",
    "                whiskerprops=dict(color='C0'), \n",
    "                medianprops=dict(color='C0'), showfliers=False)\n",
    "axs[1, 3].set_title('Price(Cylinders)')\n",
    "\n",
    "axs[0, 4].boxplot([dataframe[dataframe['transmission__manual']==1]['price'],\n",
    "                dataframe[dataframe['transmission__automatic']==1]['price'],\n",
    "                dataframe[dataframe['transmission__other']==1]['price']], \n",
    "                labels=['manual', 'automatic', 'other'],\n",
    "                boxprops=dict(color='C0'),\n",
    "                capprops=dict(color='C0'),\n",
    "                whiskerprops=dict(color='C0'), \n",
    "                medianprops=dict(color='C0'), showfliers=False)\n",
    "axs[0, 4].set_title('Price(Transmission)')\n",
    "\n",
    "axs[0, 5].boxplot([dataframe[dataframe['fwd']==1]['price'],\n",
    "                dataframe[dataframe['rwd']==1]['price'],\n",
    "                dataframe[dataframe['4wd']==1]['price']], \n",
    "                labels=['fwd', 'rwd', '4wd'],\n",
    "                boxprops=dict(color='C0'),\n",
    "                capprops=dict(color='C0'),\n",
    "                whiskerprops=dict(color='C0'), \n",
    "                medianprops=dict(color='C0'), showfliers=False)\n",
    "axs[0, 5].set_title('Price(Drive)')\n",
    "\n",
    "axs[1, 4].boxplot([dataframe[dataframe['lien']==1]['price'],\n",
    "                dataframe[dataframe['missing']==1]['price'],\n",
    "                dataframe[dataframe['parts only']==1]['price']], \n",
    "                labels=['lien', 'missing', 'partsnonly'],\n",
    "                boxprops=dict(color='C0'),\n",
    "                capprops=dict(color='C0'),\n",
    "                whiskerprops=dict(color='C0'), \n",
    "                medianprops=dict(color='C0'), showfliers=False)\n",
    "axs[1, 4].set_title('Price(Special)')\n",
    "\n",
    "axs[1, 5].boxplot(dataframe[dataframe['lien'] == 1]['condition'],\n",
    "                labels=['lien'],\n",
    "                boxprops=dict(color='C0'),\n",
    "                capprops=dict(color='C0'),\n",
    "                whiskerprops=dict(color='C0'), \n",
    "                medianprops=dict(color='C0'), showfliers=False)\n",
    "axs[1, 5].set_title('Condition(Lien)')\n",
    "\n",
    "plt.show()"
   ]
  },
  {
   "cell_type": "markdown",
   "metadata": {},
   "source": [
    "Values scaled mostly to 1mln miles and $ because these are very high 'threshold' values in reality and to better visualise we can cut out outliers above."
   ]
  },
  {
   "cell_type": "code",
   "execution_count": 42,
   "metadata": {},
   "outputs": [
    {
     "name": "stdout",
     "output_type": "stream",
     "text": [
      "{'price_year': {'pearson': -0.0015602214302658196, 'spearman': 0.5516623300180004, 'kendall': 0.41419753692080824}, 'price_odometer': {'pearson': 0.000689597029173398, 'spearman': -0.5390089790152532, 'kendall': -0.3879972279602579}, 'odometer_year': {'pearson': -0.12802738763653038, 'spearman': -0.5753181858784397, 'kendall': -0.43526710383302386}}\n"
     ]
    }
   ],
   "source": [
    "#checking corelations\n",
    "from scipy import stats\n",
    "\n",
    "corr = {}\n",
    "\n",
    "price_year = {}\n",
    "price_year['pearson'], _ = stats.pearsonr(dataframe['year'], dataframe['price'])\n",
    "price_year['spearman'], _ = stats.spearmanr(dataframe['year'], dataframe['price'])\n",
    "price_year['kendall'], _ = stats.kendalltau(dataframe['year'], dataframe['price'])\n",
    "corr['price_year'] = price_year\n",
    "\n",
    "price_odometer = {}\n",
    "price_odometer['pearson'], _ = stats.pearsonr(dataframe['odometer'], dataframe['price'])\n",
    "price_odometer['spearman'], _ = stats.spearmanr(dataframe['odometer'], dataframe['price'])\n",
    "price_odometer['kendall'], _ = stats.kendalltau(dataframe['odometer'], dataframe['price'])\n",
    "corr['price_odometer'] = price_odometer\n",
    "\n",
    "odometer_year = {}\n",
    "odometer_year['pearson'], _ = stats.pearsonr(dataframe['year'], dataframe['odometer'])\n",
    "odometer_year['spearman'], _ = stats.spearmanr(dataframe['year'], dataframe['odometer'])\n",
    "odometer_year['kendall'], _ = stats.kendalltau(dataframe['year'], dataframe['odometer'])\n",
    "corr['odometer_year'] = odometer_year\n",
    "\n",
    "print(corr)"
   ]
  },
  {
   "cell_type": "markdown",
   "metadata": {},
   "source": [
    "Overall this data looks very sensible and promising. For example: older and higher-mileage cars are cheaper, cars with bigger engines are more expensive, salvage cars are cheaper etc.\n",
    "\n",
    "- Price(Year) - relation in this dataset reflects real-world situation really well. New cars are more expensive than older ones. But for example 10 year old cars are cheaper than cars from the 70s which are considered classics. My oppinion is confirmed by spearman coreellation measure which points to the fact that price and year are monotonously coreellated. Although by looking at pearson measure we can see that it is not a linear correllation (because of all the fluctuations).\n",
    "\n",
    "- Price(Odometer) - same as above. Cars with higher mileage are cheaper. Supported by spearman correllation measure.\n",
    "\n",
    "- Condition(Year) - cars labeled 'new' were built in the last 2 years which is realistic. Other than that we see every condition in most years. Although 'salvage' tends to appear more for older cars. Most cars are in good condition.\n",
    "\n",
    "- Price(Fuel) - gas cars are the cheapest. Which is realistic - generally gas cars are cheaper than diesel. Electric and 'other' (probably hydrogen) cars are more expensive which is also realistic. Electric cars are relatively popular in contrast to hydrogen (I know of only one model on the market). What is supprising is that there is a lot of very expensive diesel cars, but it is probably because of trucks.\n",
    "\n",
    "- Price(Transmission) - manual and automatic at simmilar prices. Although automatic cars tend to be a bit more expensive, because it is the transmission of choice in most modern luxury cars. 'other' which probably included transmissions such as automated manual or dual-clutch are the most expensive becouse they are mostly found in sport cars.\n",
    "\n",
    "- Price(Drive) - this is also realistic. While all the medians are near there is a lot more expensive rear wheel drive cars than front wheel drive cars. This also comes down to the fact that luxury and sporty cars are often rwd. Although 4wd car prices are very simmilar and even a bit more expensive than rwd which is also very realistic since nowadays 4wd cars are preferred by most people.\n",
    "\n",
    "- Price(Condition) - this plot is a bit ambiguous. Although salvage cars are the cheapest and new cars most expensive. Between this two values the results are varied. It's probably because of the fact that the most important aspects of a car in terms of price are: model, manufacturer, year and mileage.\n",
    "\n",
    "- Odometer(Year) - this one is very realistic. Although there are some very high mileage carws in all production years (trucks and work cars), we can almost see a normal distribution around the year 2000. Older cars didn't get such large mileages because car technology changed rapidly so people changed cars and also they were less popular. Younger cars didn't get such high mileages becuase they are simply too young. It's supported by the fact that we se it fall drasticly after 2020.\n",
    "\n",
    "- Condition(Odometer) - very simmillar to Condition(Year) plot. Maybe a bit more realistic. 'New' cars have very low mileage. 'Like New' cars tent to either be enthusiast, rebuilt cars or very well taken care of and then they can get fairly big mileages. Cars in fair condition tend to have simmilar mileage to cars in very good condition because it mostly depends on then owner. Cars in good condition come with all kinds of mileages. While salvage cars tend to be a bit older just like 'like new'.\n",
    "\n",
    "- Price(Cylinders) - vary realistic. 4 cylinder engines are the golden standard of affordable vechicles. 3cyl engines are mostly found in newer compact cars because they came out of fashion for a long time during the 90s-2000s. There are a few 5cyl engines and almost all of them are found in audis. But not in the highest models rather kind-of sporty compact sedans such as 80 or A4. 6 cylinders are visibly more expensive because they are often found in luxury/sport cars. A lot of people consider 6cyl engines to be the best and smoothest running. 10cyl engines are mostly found in 'budget' entry-level supercars such as audi r8. While new they are very expensive old ones tend to loose value. 12 cylinder engines are very expensive becouse these are very big engines found in very luxorious or sporty cars. Because it is a US dataset 8 cylinder(mostly V8) engine cars are the most expensive. Well it's obvious it's big, iconic, all american classics have it and because of it's cultural significance and sporty capabilities it's still beeing put in cars. Finally we can see that 0cyl (mostly electric) cars also tend to be expensive. \n",
    "\n",
    "- Price(Special) - we can see that cars sold for parts and/or with missing parts tend to be very cheap. Also we don't see very expensive cars as lien.\n",
    "\n",
    "- Condition(Lien) - Lien cars ten to be in fairly good shape - probably became lien because of their owner financial problems."
   ]
  },
  {
   "cell_type": "markdown",
   "metadata": {},
   "source": [
    "## B. More complex data aspects"
   ]
  },
  {
   "cell_type": "code",
   "execution_count": 43,
   "metadata": {},
   "outputs": [
    {
     "data": {
      "image/png": "[encoded data removed]",
      "text/plain": [
       "<Figure size 3024x720 with 1 Axes>"
      ]
     },
     "metadata": {
      "needs_background": "dark"
     },
     "output_type": "display_data"
    }
   ],
   "source": [
    "dataframe.boxplot('price', 'manufacturer', figsize=(42, 10), grid=False, color='C0', showfliers=False)\n",
    "plt.show()"
   ]
  },
  {
   "cell_type": "markdown",
   "metadata": {},
   "source": [
    "This chart really proves the quality of this data. As we can see all of the car manufacturers have prices associated with them that are very sensible. Volkswagen, fiat or kia are the cheapest while ferrari, porsche, tesla or aston-martin are the most expensive. Audis are simmilairy priced to BMWs, while Mercedes cars are a bit more expensive just like Lexus. It's all very sensible."
   ]
  },
  {
   "cell_type": "code",
   "execution_count": 44,
   "metadata": {},
   "outputs": [
    {
     "data": {
      "image/png": "[encoded data removed]",
      "text/plain": [
       "<Figure size 1440x360 with 1 Axes>"
      ]
     },
     "metadata": {
      "needs_background": "dark"
     },
     "output_type": "display_data"
    }
   ],
   "source": [
    "dataframe.boxplot('price', 'paint_color', figsize=(20, 5), grid=False, color='C0', showfliers=False)\n",
    "plt.show()"
   ]
  },
  {
   "cell_type": "markdown",
   "metadata": {},
   "source": [
    "Here is an interesting chart. As we can see white and red cars are the most expensive ones, while purple, green or brown the cheapest."
   ]
  },
  {
   "cell_type": "code",
   "execution_count": 45,
   "metadata": {},
   "outputs": [
    {
     "data": {
      "image/png": "[encoded data removed]",
      "text/plain": [
       "<Figure size 1440x360 with 1 Axes>"
      ]
     },
     "metadata": {
      "needs_background": "dark"
     },
     "output_type": "display_data"
    }
   ],
   "source": [
    "dataframe.boxplot('price', 'type', figsize=(20, 5), grid=False, color='C0', showfliers=False)\n",
    "plt.show()"
   ]
  },
  {
   "cell_type": "markdown",
   "metadata": {},
   "source": [
    "Pickups and other tend to be very expensive because of their size, popularity and work potential. Obviously the most expensive cars are sporty coupes while regular sedans and hatchbacks are cheap."
   ]
  },
  {
   "cell_type": "code",
   "execution_count": 46,
   "metadata": {},
   "outputs": [
    {
     "data": {
      "image/png": "[encoded data removed]",
      "text/plain": [
       "<Figure size 1440x576 with 2 Axes>"
      ]
     },
     "metadata": {},
     "output_type": "display_data"
    }
   ],
   "source": [
    "fig, axs = plt.subplots(1, 2, figsize=(20, 8))\n",
    "fig.suptitle('Share of\\n Manufacturers(L) Types(R)')\n",
    "axs[0].pie(dataframe['manufacturer'].value_counts(), labels=dataframe['manufacturer'].unique())\n",
    "axs[1].pie(dataframe['type'].value_counts(), labels=dataframe['type'].unique())\n",
    "plt.show()"
   ]
  },
  {
   "cell_type": "markdown",
   "metadata": {},
   "source": [
    "Charts above acn be a bit suprising, but I want to remind that this dataset is collected exclusively in USA where trucks and pickups are VERY popular not only for daily cars but also work. It also explains why most popular manufacturers are ford and gmg followed by imported japanese manufacturers and why european manufacturers are so far behind."
   ]
  },
  {
   "cell_type": "code",
   "execution_count": 47,
   "metadata": {},
   "outputs": [
    {
     "data": {
      "image/png": "[encoded data removed]",
      "text/plain": [
       "<Figure size 360x360 with 1 Axes>"
      ]
     },
     "metadata": {},
     "output_type": "display_data"
    }
   ],
   "source": [
    "fig, axs = plt.subplots(1, 1, figsize=(5, 5))\n",
    "fig.suptitle('Share of conditions')\n",
    "axs.pie(dataframe['condition'].value_counts(), labels=dataframe['condition'].unique())\n",
    "plt.show()"
   ]
  },
  {
   "cell_type": "markdown",
   "metadata": {},
   "source": [
    "Most cars are in good condition followed by: like new and salvage. This explains price graphs ands seems sensible. Also proofs that we didn't mess with the data all that much by filling fair condition cars."
   ]
  },
  {
   "cell_type": "code",
   "execution_count": 48,
   "metadata": {},
   "outputs": [
    {
     "data": {
      "image/png": "[encoded data removed]",
      "text/plain": [
       "<Figure size 1440x360 with 1 Axes>"
      ]
     },
     "metadata": {
      "needs_background": "dark"
     },
     "output_type": "display_data"
    }
   ],
   "source": [
    "plt.figure(figsize=(20, 5))\n",
    "plt.title('Odometer(Type)')\n",
    "plt.boxplot([dataframe[dataframe['type']==i]['odometer'] for i in dataframe['type'].unique()], \n",
    "                labels=dataframe['type'].unique(),\n",
    "                boxprops=dict(color='C0'),\n",
    "                capprops=dict(color='C0'),\n",
    "                whiskerprops=dict(color='C0'), \n",
    "                medianprops=dict(color='C0'), showfliers=False)\n",
    "plt.show()"
   ]
  },
  {
   "cell_type": "markdown",
   "metadata": {},
   "source": [
    "Although this looks preety uniform we can see some rational dependencies eg. coupes as sporty cars get lower mileage than trucks or mini-vans."
   ]
  },
  {
   "cell_type": "code",
   "execution_count": 49,
   "metadata": {},
   "outputs": [
    {
     "data": {
      "text/html": [
       "<div>\n",
       "<style scoped>\n",
       "    .dataframe tbody tr th:only-of-type {\n",
       "        vertical-align: middle;\n",
       "    }\n",
       "\n",
       "    .dataframe tbody tr th {\n",
       "        vertical-align: top;\n",
       "    }\n",
       "\n",
       "    .dataframe thead th {\n",
       "        text-align: right;\n",
       "    }\n",
       "</style>\n",
       "<table border=\"1\" class=\"dataframe\">\n",
       "  <thead>\n",
       "    <tr style=\"text-align: right;\">\n",
       "      <th></th>\n",
       "      <th>model</th>\n",
       "      <th>manufacturer</th>\n",
       "      <th>mean_price</th>\n",
       "    </tr>\n",
       "  </thead>\n",
       "  <tbody>\n",
       "    <tr>\n",
       "      <th>48</th>\n",
       "      <td>tundra</td>\n",
       "      <td>toyota</td>\n",
       "      <td>3.463460e+06</td>\n",
       "    </tr>\n",
       "    <tr>\n",
       "      <th>225</th>\n",
       "      <td>f350</td>\n",
       "      <td>ford</td>\n",
       "      <td>1.724898e+06</td>\n",
       "    </tr>\n",
       "    <tr>\n",
       "      <th>408</th>\n",
       "      <td>regal</td>\n",
       "      <td>buick</td>\n",
       "      <td>1.308186e+06</td>\n",
       "    </tr>\n",
       "    <tr>\n",
       "      <th>681</th>\n",
       "      <td>l-series</td>\n",
       "      <td>saturn</td>\n",
       "      <td>1.002250e+06</td>\n",
       "    </tr>\n",
       "    <tr>\n",
       "      <th>34</th>\n",
       "      <td>titan</td>\n",
       "      <td>nissan</td>\n",
       "      <td>3.308011e+05</td>\n",
       "    </tr>\n",
       "    <tr>\n",
       "      <th>1546</th>\n",
       "      <td>mercedes-maybach</td>\n",
       "      <td>mercedes-benz</td>\n",
       "      <td>2.099950e+05</td>\n",
       "    </tr>\n",
       "    <tr>\n",
       "      <th>752</th>\n",
       "      <td>g550</td>\n",
       "      <td>mercedes-benz</td>\n",
       "      <td>2.050000e+05</td>\n",
       "    </tr>\n",
       "    <tr>\n",
       "      <th>955</th>\n",
       "      <td>amg</td>\n",
       "      <td>mercedes-benz</td>\n",
       "      <td>1.999954e+05</td>\n",
       "    </tr>\n",
       "    <tr>\n",
       "      <th>1248</th>\n",
       "      <td>458</td>\n",
       "      <td>ferrari</td>\n",
       "      <td>1.699990e+05</td>\n",
       "    </tr>\n",
       "    <tr>\n",
       "      <th>1283</th>\n",
       "      <td>srt</td>\n",
       "      <td>dodge</td>\n",
       "      <td>1.650000e+05</td>\n",
       "    </tr>\n",
       "  </tbody>\n",
       "</table>\n",
       "</div>"
      ],
      "text/plain": [
       "                 model   manufacturer    mean_price\n",
       "48              tundra         toyota  3.463460e+06\n",
       "225               f350           ford  1.724898e+06\n",
       "408              regal          buick  1.308186e+06\n",
       "681           l-series         saturn  1.002250e+06\n",
       "34               titan         nissan  3.308011e+05\n",
       "1546  mercedes-maybach  mercedes-benz  2.099950e+05\n",
       "752               g550  mercedes-benz  2.050000e+05\n",
       "955                amg  mercedes-benz  1.999954e+05\n",
       "1248               458        ferrari  1.699990e+05\n",
       "1283               srt          dodge  1.650000e+05"
      ]
     },
     "execution_count": 49,
     "metadata": {},
     "output_type": "execute_result"
    }
   ],
   "source": [
    "x = dataframe.model.unique()\n",
    "d = {\n",
    "    'model': [],\n",
    "    'manufacturer': [],\n",
    "    'mean_price': []\n",
    "}\n",
    "for i in x:\n",
    "    d['model'].append(i)\n",
    "    d['manufacturer'].append(dataframe[dataframe.model==i]['manufacturer'].unique()[0])\n",
    "    d['mean_price'].append(dataframe[dataframe.model==i]['price'].mean())\n",
    "\n",
    "df = pd.DataFrame(d)\n",
    "df.nlargest(10, 'mean_price')"
   ]
  },
  {
   "cell_type": "markdown",
   "metadata": {},
   "source": [
    "Sensible output of top 10 most expensive(by mean) models."
   ]
  },
  {
   "cell_type": "code",
   "execution_count": 50,
   "metadata": {},
   "outputs": [
    {
     "data": {
      "image/png": "[encoded data removed]",
      "text/plain": [
       "<Figure size 1440x576 with 2 Axes>"
      ]
     },
     "metadata": {
      "needs_background": "dark"
     },
     "output_type": "display_data"
    }
   ],
   "source": [
    "type_labels = []\n",
    "map_type = {}\n",
    "fuel_labels = ['gas', 'diesel', 'electric', 'hybrid', 'other']\n",
    "\n",
    "dummy_df = dataframe[['type', 'gas', 'diesel', 'electric', 'hybrid', 'other']].copy()\n",
    "dummy_df['fuel'] = np.zeros(len(dataframe['type']))\n",
    "\n",
    "for i, row in dummy_df.iterrows():\n",
    "    f = 0\n",
    "    if (row['gas'] == 1):\n",
    "        f = 0\n",
    "    elif (row['diesel'] == 1):\n",
    "        f = 1\n",
    "    elif (row['electric'] == 1):\n",
    "        f = 2\n",
    "    elif (row['hybrid'] == 1):\n",
    "        f = 3\n",
    "    else:\n",
    "        f = 4\n",
    "    dummy_df.at[i, 'fuel'] = f\n",
    "\n",
    "dummy_df = dummy_df.drop(columns=['gas', 'diesel', 'electric', 'hybrid', 'other'], axis=1)\n",
    "x = dummy_df['type'].unique()\n",
    "n = 0\n",
    "for i in x:\n",
    "    type_labels.append(i)\n",
    "    map_type[i] = n\n",
    "    n += 1\n",
    "\n",
    "dummy_df['type'] = dummy_df['type'].map(lambda x: map_type[x])\n",
    "plt.figure(figsize=(20, 8))\n",
    "\n",
    "hist, xedges, yedges = np.histogram2d(dummy_df['type'], dummy_df['fuel'], bins=[np.arange(0, 14, 1), np.arange(0, 6, 1)])\n",
    "hist = hist.T\n",
    "with np.errstate(divide='ignore', invalid='ignore'):\n",
    "    hist /= hist.sum(axis=0, keepdims=True)\n",
    "plt.pcolormesh(xedges, yedges, hist, cmap=plt.cm.Blues)\n",
    "plt.xticks(ticks=np.arange(0, 13, 1),labels=type_labels)\n",
    "plt.yticks(ticks=np.arange(0, 5, 1),labels=fuel_labels)\n",
    "plt.colorbar()\n",
    "plt.title('Number of vehicles by fuel & type(normalised to type)')\n",
    "plt.show()\n"
   ]
  },
  {
   "cell_type": "markdown",
   "metadata": {},
   "source": [
    "As we can see gas cars are by far the most popular. A lot of diesel vehicles are pickups and trucks - just as expected. Also there are quite a few diesel buses. Electric and hybrid vehicles are not popular. A lot of hybrid vehicles are hatchbacks probably due to Toyota Prius."
   ]
  },
  {
   "cell_type": "code",
   "execution_count": 51,
   "metadata": {},
   "outputs": [
    {
     "data": {
      "image/png": "[encoded data removed]",
      "text/plain": [
       "<Figure size 1440x360 with 2 Axes>"
      ]
     },
     "metadata": {
      "needs_background": "dark"
     },
     "output_type": "display_data"
    }
   ],
   "source": [
    "type_labels = []\n",
    "map_type = {}\n",
    "drive_labels = ['fwd', 'rwd', '4wd']\n",
    "\n",
    "dummy_df = dataframe[['type', 'fwd', 'rwd', '4wd']].copy()\n",
    "dummy_df['drive'] = np.zeros(len(dataframe['type']))\n",
    "\n",
    "for i, row in dummy_df.iterrows():\n",
    "    f = 0\n",
    "    if (row['fwd'] == 1):\n",
    "        f = 0\n",
    "    elif (row['rwd'] == 1):\n",
    "        f = 1\n",
    "    else:\n",
    "        f = 2\n",
    "    dummy_df.at[i, 'drive'] = f\n",
    "\n",
    "dummy_df = dummy_df.drop(columns=['fwd', 'rwd', '4wd'], axis=1)\n",
    "x = dummy_df['type'].unique()\n",
    "n = 0\n",
    "for i in x:\n",
    "    type_labels.append(i)\n",
    "    map_type[i] = n\n",
    "    n += 1\n",
    "\n",
    "dummy_df['type'] = dummy_df['type'].map(lambda x: map_type[x])\n",
    "plt.figure(figsize=(20, 5))\n",
    "\n",
    "hist, xedges, yedges = np.histogram2d(dummy_df['type'], dummy_df['drive'], bins=[np.arange(0, 14, 1), np.arange(0, 4, 1)])\n",
    "hist = hist.T\n",
    "with np.errstate(divide='ignore', invalid='ignore'):\n",
    "    hist /= hist.sum(axis=0, keepdims=True)\n",
    "plt.pcolormesh(xedges, yedges, hist, cmap=plt.cm.Blues)\n",
    "plt.xticks(ticks=np.arange(0, 13, 1),labels=type_labels)\n",
    "plt.yticks(ticks=np.arange(0, 3, 1),labels=drive_labels)\n",
    "plt.colorbar()\n",
    "plt.title('Number of vehicles by drivetrain & type(normalised to type)')\n",
    "plt.show()"
   ]
  },
  {
   "cell_type": "markdown",
   "metadata": {},
   "source": [
    "Trucks and pickups are mostly 4wd (some trucks rwd), becuse they are working vehicles. While almost all SUVs are 4wd (although they are daily vehiles they take a lot fro offroad vehicles) and sedans fwd. Most coupes are rwd as they are sporty cars and this drivetrain is considered better for weight distribution. Almost all offroad vehicles are of course 4wd. While most family-oriented hatchbacks and mini-vans are fwd."
   ]
  },
  {
   "cell_type": "code",
   "execution_count": 52,
   "metadata": {},
   "outputs": [],
   "source": [
    "#state - type 2d hexbin"
   ]
  },
  {
   "cell_type": "code",
   "execution_count": 53,
   "metadata": {},
   "outputs": [
    {
     "data": {
      "image/png": "[encoded data removed]",
      "text/plain": [
       "<Figure size 720x720 with 1 Axes>"
      ]
     },
     "metadata": {
      "needs_background": "dark"
     },
     "output_type": "display_data"
    }
   ],
   "source": [
    "fig = plt.figure(figsize=(10, 10))\n",
    "ax = fig.add_subplot(111, projection='3d')\n",
    "ax.set_zlim(0, 200000)\n",
    "ax.set_ylim(0, 500000)\n",
    "ax.scatter(dataframe['year'], dataframe['odometer'], dataframe['price'], cmap=plt.cm.Blues, c=dataframe['year'], s=5, alpha=0.3)\n",
    "plt.title('Price by most important variables - mileage and year in 3D')\n",
    "plt.show()"
   ]
  },
  {
   "cell_type": "markdown",
   "metadata": {},
   "source": [
    "## C. Summary"
   ]
  },
  {
   "cell_type": "markdown",
   "metadata": {},
   "source": []
  },
  {
   "cell_type": "markdown",
   "metadata": {},
   "source": [
    "# **III. Price Regression**"
   ]
  },
  {
   "cell_type": "markdown",
   "metadata": {},
   "source": [
    "## Dataset preparation"
   ]
  },
  {
   "cell_type": "markdown",
   "metadata": {},
   "source": [
    "## A. Hand-crafted model"
   ]
  },
  {
   "cell_type": "markdown",
   "metadata": {},
   "source": [
    "## B. ElasticNet"
   ]
  },
  {
   "cell_type": "markdown",
   "metadata": {},
   "source": [
    "## C. SVM"
   ]
  },
  {
   "cell_type": "markdown",
   "metadata": {},
   "source": [
    "## D. XGBoost"
   ]
  },
  {
   "cell_type": "markdown",
   "metadata": {},
   "source": [
    "## E. Neural Network"
   ]
  },
  {
   "cell_type": "markdown",
   "metadata": {},
   "source": [
    "## F. Summary\n",
    "- put my own car through the best model"
   ]
  },
  {
   "cell_type": "markdown",
   "metadata": {},
   "source": [
    "# **VI. Type categorising**"
   ]
  },
  {
   "cell_type": "markdown",
   "metadata": {},
   "source": [
    "## Dataset preparation"
   ]
  },
  {
   "cell_type": "markdown",
   "metadata": {},
   "source": [
    "## A. K-Means"
   ]
  },
  {
   "cell_type": "markdown",
   "metadata": {},
   "source": [
    "## B. Random-Forest"
   ]
  },
  {
   "cell_type": "markdown",
   "metadata": {},
   "source": [
    "## C. SVM"
   ]
  },
  {
   "cell_type": "markdown",
   "metadata": {},
   "source": [
    "## D. XGBoost"
   ]
  },
  {
   "cell_type": "markdown",
   "metadata": {},
   "source": [
    "## E. Neural Network"
   ]
  },
  {
   "cell_type": "markdown",
   "metadata": {},
   "source": [
    "## F. Ensemble"
   ]
  },
  {
   "cell_type": "markdown",
   "metadata": {},
   "source": [
    "## G. Summary"
   ]
  },
  {
   "cell_type": "markdown",
   "metadata": {},
   "source": [
    "# **V. More advanced models**"
   ]
  },
  {
   "cell_type": "markdown",
   "metadata": {},
   "source": [
    "## Dataset preparation"
   ]
  },
  {
   "cell_type": "markdown",
   "metadata": {},
   "source": [
    "## Feature extraction from images"
   ]
  },
  {
   "cell_type": "markdown",
   "metadata": {},
   "source": [
    "## Feature extraction from description"
   ]
  },
  {
   "cell_type": "markdown",
   "metadata": {},
   "source": [
    "# **VI. Results**"
   ]
  }
 ],
 "metadata": {
  "interpreter": {
   "hash": "b0fa6594d8f4cbf19f97940f81e996739fb7646882a419484c72d19e05852a7e"
  },
  "kernelspec": {
   "display_name": "Python 3.9.13 64-bit",
   "language": "python",
   "name": "python3"
  },
  "language_info": {
   "codemirror_mode": {
    "name": "ipython",
    "version": 3
   },
   "file_extension": ".py",
   "mimetype": "text/x-python",
   "name": "python",
   "nbconvert_exporter": "python",
   "pygments_lexer": "ipython3",
   "version": "3.9.13"
  },
  "orig_nbformat": 4
 },
 "nbformat": 4,
 "nbformat_minor": 2
}
